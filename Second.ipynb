{
  "nbformat": 4,
  "nbformat_minor": 0,
  "metadata": {
    "colab": {
      "name": "Second.ipynb",
      "provenance": [],
      "collapsed_sections": [],
      "authorship_tag": "ABX9TyOMZF2fnECZwBMvXVAJvO+8",
      "include_colab_link": true
    },
    "kernelspec": {
      "display_name": "Python 3",
      "name": "python3"
    }
  },
  "cells": [
    {
      "cell_type": "markdown",
      "metadata": {
        "id": "view-in-github",
        "colab_type": "text"
      },
      "source": [
        "<a href=\"https://colab.research.google.com/github/VenuGopal1899/Deep-Learning-Projects/blob/main/Second.ipynb\" target=\"_parent\"><img src=\"https://colab.research.google.com/assets/colab-badge.svg\" alt=\"Open In Colab\"/></a>"
      ]
    },
    {
      "cell_type": "code",
      "metadata": {
        "colab": {
          "base_uri": "https://localhost:8080/"
        },
        "id": "RnQRVTamCsGl",
        "outputId": "719396e5-8d31-469c-d288-a4701e6d5333"
      },
      "source": [
        "from keras.datasets import imdb\r\n",
        "(train_data, train_labels), (test_data, test_labels) = imdb.load_data(num_words=10000)"
      ],
      "execution_count": 2,
      "outputs": [
        {
          "output_type": "stream",
          "text": [
            "Downloading data from https://storage.googleapis.com/tensorflow/tf-keras-datasets/imdb.npz\n",
            "17465344/17464789 [==============================] - 0s 0us/step\n"
          ],
          "name": "stdout"
        },
        {
          "output_type": "stream",
          "text": [
            "<string>:6: VisibleDeprecationWarning: Creating an ndarray from ragged nested sequences (which is a list-or-tuple of lists-or-tuples-or ndarrays with different lengths or shapes) is deprecated. If you meant to do this, you must specify 'dtype=object' when creating the ndarray\n",
            "/usr/local/lib/python3.6/dist-packages/tensorflow/python/keras/datasets/imdb.py:159: VisibleDeprecationWarning: Creating an ndarray from ragged nested sequences (which is a list-or-tuple of lists-or-tuples-or ndarrays with different lengths or shapes) is deprecated. If you meant to do this, you must specify 'dtype=object' when creating the ndarray\n",
            "  x_train, y_train = np.array(xs[:idx]), np.array(labels[:idx])\n",
            "/usr/local/lib/python3.6/dist-packages/tensorflow/python/keras/datasets/imdb.py:160: VisibleDeprecationWarning: Creating an ndarray from ragged nested sequences (which is a list-or-tuple of lists-or-tuples-or ndarrays with different lengths or shapes) is deprecated. If you meant to do this, you must specify 'dtype=object' when creating the ndarray\n",
            "  x_test, y_test = np.array(xs[idx:]), np.array(labels[idx:])\n"
          ],
          "name": "stderr"
        }
      ]
    },
    {
      "cell_type": "markdown",
      "metadata": {
        "id": "J8hfS_xPFWiY"
      },
      "source": [
        "Use the below code snippet to decode the review in train_data"
      ]
    },
    {
      "cell_type": "code",
      "metadata": {
        "colab": {
          "base_uri": "https://localhost:8080/"
        },
        "id": "PhZtGYCxCU08",
        "outputId": "69fc594a-30cd-42cc-e51c-d032438ab4eb"
      },
      "source": [
        "word_index = imdb.get_word_index()\r\n",
        "reverse_word_index = dict(\r\n",
        "    [(value, key) for (key, value) in word_index.items()])\r\n",
        "\r\n",
        "decoded_review = ' '.join(\r\n",
        "    [reverse_word_index.get(i-3, '?') for i in train_data[0]])\r\n",
        "\r\n",
        "print('decoded_review' , decoded_review)"
      ],
      "execution_count": 4,
      "outputs": [
        {
          "output_type": "stream",
          "text": [
            "decoded_review ? this film was just brilliant casting location scenery story direction everyone's really suited the part they played and you could just imagine being there robert ? is an amazing actor and now the same being director ? father came from the same scottish island as myself so i loved the fact there was a real connection with this film the witty remarks throughout the film were great it was just brilliant so much that i bought the film as soon as it was released for ? and would recommend it to everyone to watch and the fly fishing was amazing really cried at the end it was so sad and you know what they say if you cry at a film it must have been good and this definitely was also ? to the two little boy's that played the ? of norman and paul they were just brilliant children are often left out of the ? list i think because the stars that play them all grown up are such a big profile for the whole film but these children are amazing and should be praised for what they have done don't you think the whole story was so lovely because it was true and was someone's life after all that was shared with us all\n",
            "1\n"
          ],
          "name": "stdout"
        }
      ]
    },
    {
      "cell_type": "code",
      "metadata": {
        "id": "t9XJeC1MT6Jf"
      },
      "source": [
        "import numpy as np\r\n",
        "\r\n",
        "def vectorize_sequences(sequences, dimension=10000):\r\n",
        "    results = np.zeros((len(sequences), dimension))\r\n",
        "    for i, sequence in enumerate(sequences):\r\n",
        "        results[i, sequence] = 1.\r\n",
        "    return results\r\n",
        "\r\n",
        "x_train = vectorize_sequences(train_data)\r\n",
        "x_test = vectorize_sequences(test_data)\r\n",
        "\r\n",
        "y_train = np.asarray(train_labels).astype('float32')\r\n",
        "y_test = np.asarray(test_labels).astype('float32')"
      ],
      "execution_count": null,
      "outputs": []
    },
    {
      "cell_type": "code",
      "metadata": {
        "colab": {
          "base_uri": "https://localhost:8080/"
        },
        "id": "keWVnpyIXtV0",
        "outputId": "96f71df0-6130-4399-a92d-4351b186cf13"
      },
      "source": [
        "from keras import models\r\n",
        "from keras import layers\r\n",
        "\r\n",
        "model = models.Sequential()\r\n",
        "model.add(layers.Dense(16, activation='relu', input_shape=(10000, )))\r\n",
        "model.add(layers.Dense(16, activation='relu'))\r\n",
        "model.add(layers.Dense(1, activation='sigmoid'))\r\n",
        "\r\n",
        "x_val = x_train[:10000]\r\n",
        "partial_x_train = x_train[10000:]\r\n",
        "\r\n",
        "y_val = y_train[:10000]\r\n",
        "partial_y_train = y_train[10000:]\r\n",
        "\r\n",
        "model.compile(optimizer='rmsprop', loss='binary_crossentropy', metrics=['accuracy'])\r\n",
        "history_object = model.fit(partial_x_train, partial_y_train, epochs=20, batch_size=512, validation_data=(x_val, y_val))\r\n",
        "\r\n",
        "history_dict = history_object.history"
      ],
      "execution_count": null,
      "outputs": [
        {
          "output_type": "stream",
          "text": [
            "Epoch 1/20\n",
            "30/30 [==============================] - 2s 47ms/step - loss: 0.5843 - accuracy: 0.7004 - val_loss: 0.3780 - val_accuracy: 0.8730\n",
            "Epoch 2/20\n",
            "30/30 [==============================] - 1s 33ms/step - loss: 0.3138 - accuracy: 0.9076 - val_loss: 0.3051 - val_accuracy: 0.8830\n",
            "Epoch 3/20\n",
            "30/30 [==============================] - 1s 33ms/step - loss: 0.2317 - accuracy: 0.9262 - val_loss: 0.2787 - val_accuracy: 0.8904\n",
            "Epoch 4/20\n",
            "30/30 [==============================] - 1s 33ms/step - loss: 0.1708 - accuracy: 0.9487 - val_loss: 0.2843 - val_accuracy: 0.8867\n",
            "Epoch 5/20\n",
            "30/30 [==============================] - 1s 32ms/step - loss: 0.1403 - accuracy: 0.9597 - val_loss: 0.2931 - val_accuracy: 0.8832\n",
            "Epoch 6/20\n",
            "30/30 [==============================] - 1s 32ms/step - loss: 0.1134 - accuracy: 0.9689 - val_loss: 0.2983 - val_accuracy: 0.8865\n",
            "Epoch 7/20\n",
            "30/30 [==============================] - 1s 33ms/step - loss: 0.0887 - accuracy: 0.9762 - val_loss: 0.3107 - val_accuracy: 0.8841\n",
            "Epoch 8/20\n",
            "30/30 [==============================] - 1s 32ms/step - loss: 0.0750 - accuracy: 0.9802 - val_loss: 0.3392 - val_accuracy: 0.8760\n",
            "Epoch 9/20\n",
            "30/30 [==============================] - 1s 32ms/step - loss: 0.0599 - accuracy: 0.9862 - val_loss: 0.3790 - val_accuracy: 0.8710\n",
            "Epoch 10/20\n",
            "30/30 [==============================] - 1s 33ms/step - loss: 0.0523 - accuracy: 0.9883 - val_loss: 0.3826 - val_accuracy: 0.8757\n",
            "Epoch 11/20\n",
            "30/30 [==============================] - 1s 33ms/step - loss: 0.0416 - accuracy: 0.9905 - val_loss: 0.4063 - val_accuracy: 0.8783\n",
            "Epoch 12/20\n",
            "30/30 [==============================] - 1s 33ms/step - loss: 0.0326 - accuracy: 0.9935 - val_loss: 0.4279 - val_accuracy: 0.8753\n",
            "Epoch 13/20\n",
            "30/30 [==============================] - 1s 33ms/step - loss: 0.0260 - accuracy: 0.9960 - val_loss: 0.4571 - val_accuracy: 0.8737\n",
            "Epoch 14/20\n",
            "30/30 [==============================] - 1s 33ms/step - loss: 0.0196 - accuracy: 0.9976 - val_loss: 0.4843 - val_accuracy: 0.8747\n",
            "Epoch 15/20\n",
            "30/30 [==============================] - 1s 33ms/step - loss: 0.0168 - accuracy: 0.9979 - val_loss: 0.5123 - val_accuracy: 0.8731\n",
            "Epoch 16/20\n",
            "30/30 [==============================] - 1s 33ms/step - loss: 0.0113 - accuracy: 0.9992 - val_loss: 0.5440 - val_accuracy: 0.8733\n",
            "Epoch 17/20\n",
            "30/30 [==============================] - 1s 32ms/step - loss: 0.0110 - accuracy: 0.9986 - val_loss: 0.5812 - val_accuracy: 0.8708\n",
            "Epoch 18/20\n",
            "30/30 [==============================] - 1s 32ms/step - loss: 0.0060 - accuracy: 0.9997 - val_loss: 0.6084 - val_accuracy: 0.8710\n",
            "Epoch 19/20\n",
            "30/30 [==============================] - 1s 33ms/step - loss: 0.0061 - accuracy: 0.9993 - val_loss: 0.6483 - val_accuracy: 0.8670\n",
            "Epoch 20/20\n",
            "30/30 [==============================] - 1s 33ms/step - loss: 0.0035 - accuracy: 0.9998 - val_loss: 0.7736 - val_accuracy: 0.8529\n",
            "dict_keys(['loss', 'accuracy', 'val_loss', 'val_accuracy'])\n"
          ],
          "name": "stdout"
        }
      ]
    },
    {
      "cell_type": "code",
      "metadata": {
        "colab": {
          "base_uri": "https://localhost:8080/",
          "height": 295
        },
        "id": "dPsAr3QxdvYN",
        "outputId": "254468e0-8b43-4f88-9167-d44010667a92"
      },
      "source": [
        "import matplotlib.pyplot as plt\r\n",
        "\r\n",
        "loss_values = history_dict['loss']\r\n",
        "accuracy = history_dict['accuracy']\r\n",
        "val_loss_values = history_dict['val_loss']\r\n",
        "\r\n",
        "epochs = range(1, len(accuracy)+1)\r\n",
        "\r\n",
        "plt.plot(epochs, loss_values, 'bo', label='Training Loss')\r\n",
        "plt.plot(epochs, val_loss_values, 'b', label='Validation Loss')\r\n",
        "plt.title('Training and Validation Loss')\r\n",
        "plt.xlabel('Epochs')\r\n",
        "plt.ylabel('Loss')\r\n",
        "plt.legend()\r\n",
        "\r\n",
        "plt.show()"
      ],
      "execution_count": null,
      "outputs": [
        {
          "output_type": "display_data",
          "data": {
            "image/png": "[encoded data removed]",
            "text/plain": [
              "<Figure size 432x288 with 1 Axes>"
            ]
          },
          "metadata": {
            "tags": [],
            "needs_background": "light"
          }
        }
      ]
    },
    {
      "cell_type": "code",
      "metadata": {
        "colab": {
          "base_uri": "https://localhost:8080/",
          "height": 295
        },
        "id": "QpVj0B1rgI3y",
        "outputId": "bea2ceb3-dd13-4487-9bab-55e26ac10108"
      },
      "source": [
        "import matplotlib.pyplot as plt\r\n",
        "\r\n",
        "acc_values = history_dict['accuracy']\r\n",
        "accuracy = history_dict['accuracy']\r\n",
        "val_acc_values = history_dict['val_accuracy']\r\n",
        "\r\n",
        "epochs = range(1, len(accuracy)+1)\r\n",
        "\r\n",
        "plt.plot(epochs, acc_values, 'bo', label='Training Accuracy')\r\n",
        "plt.plot(epochs, val_acc_values, 'b', label='Validation Accuracy')\r\n",
        "plt.title('Training and Validation Accuracy')\r\n",
        "plt.xlabel('Epochs')\r\n",
        "plt.ylabel('Accuracy')\r\n",
        "plt.legend()\r\n",
        "\r\n",
        "plt.show()"
      ],
      "execution_count": null,
      "outputs": [
        {
          "output_type": "display_data",
          "data": {
            "image/png": "[encoded data removed]",
            "text/plain": [
              "<Figure size 432x288 with 1 Axes>"
            ]
          },
          "metadata": {
            "tags": [],
            "needs_background": "light"
          }
        }
      ]
    },
    {
      "cell_type": "markdown",
      "metadata": {
        "id": "pqa0wHacigTk"
      },
      "source": [
        "Kind of Naive approach based on graph - Accuracy 88% "
      ]
    },
    {
      "cell_type": "code",
      "metadata": {
        "colab": {
          "base_uri": "https://localhost:8080/"
        },
        "id": "QJFWmRWEhE8M",
        "outputId": "48c7bfca-cfa3-432b-8a8f-e980022a16f0"
      },
      "source": [
        "model2 = models.Sequential()\r\n",
        "model2.add(layers.Dense(16, activation='relu', input_shape=(10000, )))\r\n",
        "model2.add(layers.Dense(16, activation='relu'))\r\n",
        "model2.add(layers.Dense(1, activation='sigmoid'))\r\n",
        "\r\n",
        "model2.compile(optimizer='rmsprop', loss='binary_crossentropy', metrics=['accuracy'])\r\n",
        "model2.fit(x_train, y_train, epochs=4, batch_size=512)\r\n",
        "\r\n",
        "results = model2.evaluate(x_test, y_test)\r\n",
        "print(results)"
      ],
      "execution_count": null,
      "outputs": [
        {
          "output_type": "stream",
          "text": [
            "Epoch 1/4\n",
            "49/49 [==============================] - 2s 26ms/step - loss: 0.5881 - accuracy: 0.6908\n",
            "Epoch 2/4\n",
            "49/49 [==============================] - 1s 26ms/step - loss: 0.3159 - accuracy: 0.9081\n",
            "Epoch 3/4\n",
            "49/49 [==============================] - 1s 25ms/step - loss: 0.2299 - accuracy: 0.9288\n",
            "Epoch 4/4\n",
            "49/49 [==============================] - 1s 25ms/step - loss: 0.1866 - accuracy: 0.9404\n",
            "782/782 [==============================] - 1s 2ms/step - loss: 0.3069 - accuracy: 0.8764\n",
            "[0.30694225430488586, 0.8763999938964844]\n"
          ],
          "name": "stdout"
        }
      ]
    },
    {
      "cell_type": "markdown",
      "metadata": {
        "id": "BkJDJNpclPnE"
      },
      "source": [
        "A higher degree of accuracy can be achieved by using a better training algorithm. (Upto 95%)"
      ]
    },
    {
      "cell_type": "code",
      "metadata": {
        "colab": {
          "base_uri": "https://localhost:8080/"
        },
        "id": "q-0rKGjRivNg",
        "outputId": "d201b6c8-b361-4c44-a9a6-16a9313278d0"
      },
      "source": [
        "model3 = models.Sequential()\r\n",
        "model3.add(layers.Dense(32, activation='relu', input_shape=(10000, )))\r\n",
        "model3.add(layers.Dense(32, activation='relu'))\r\n",
        "model3.add(layers.Dense(1, activation='sigmoid'))\r\n",
        "\r\n",
        "model3.compile(optimizer='rmsprop', loss='binary_crossentropy', metrics=['accuracy'])\r\n",
        "model3.fit(x_train, y_train, epochs=4, batch_size=512)\r\n",
        "\r\n",
        "results = model3.evaluate(x_test, y_test)\r\n",
        "print(results)"
      ],
      "execution_count": null,
      "outputs": [
        {
          "output_type": "stream",
          "text": [
            "Epoch 1/4\n",
            "49/49 [==============================] - 2s 31ms/step - loss: 0.5284 - accuracy: 0.7396\n",
            "Epoch 2/4\n",
            "49/49 [==============================] - 2s 31ms/step - loss: 0.2444 - accuracy: 0.9137\n",
            "Epoch 3/4\n",
            "49/49 [==============================] - 1s 31ms/step - loss: 0.1830 - accuracy: 0.9337\n",
            "Epoch 4/4\n",
            "49/49 [==============================] - 2s 31ms/step - loss: 0.1478 - accuracy: 0.9491\n",
            "782/782 [==============================] - 1s 2ms/step - loss: 0.3111 - accuracy: 0.8785\n",
            "[0.31106215715408325, 0.8784800171852112]\n"
          ],
          "name": "stdout"
        }
      ]
    }
  ]
}