{
  "nbformat": 4,
  "nbformat_minor": 0,
  "metadata": {
    "colab": {
      "name": "5_Fifth.ipynb",
      "provenance": [],
      "authorship_tag": "ABX9TyMP+ObuF1apeE33NPI5e3ZX",
      "include_colab_link": true
    },
    "kernelspec": {
      "name": "python3",
      "display_name": "Python 3"
    }
  },
  "cells": [
    {
      "cell_type": "markdown",
      "metadata": {
        "id": "view-in-github",
        "colab_type": "text"
      },
      "source": [
        "<a href=\"https://colab.research.google.com/github/VenuGopal1899/Deep-Learning-Projects/blob/main/5_Fifth.ipynb\" target=\"_parent\"><img src=\"https://colab.research.google.com/assets/colab-badge.svg\" alt=\"Open In Colab\"/></a>"
      ]
    },
    {
      "cell_type": "markdown",
      "metadata": {
        "id": "MMac59-tkTVR"
      },
      "source": [
        "Movie Review Classification Network - Comparison"
      ]
    },
    {
      "cell_type": "code",
      "metadata": {
        "id": "6zAOWXdWkbuV"
      },
      "source": [
        "from keras.datasets import imdb\r\n",
        "import numpy as np\r\n",
        "\r\n",
        "np.warnings.filterwarnings('ignore', category=np.VisibleDeprecationWarning) \r\n",
        "\r\n",
        "(train_data, train_labels), (test_data, test_labels) = imdb.load_data(num_words=10000)"
      ],
      "execution_count": 14,
      "outputs": []
    },
    {
      "cell_type": "code",
      "metadata": {
        "id": "JD6kexSql8g8"
      },
      "source": [
        "def vectorize_sequences(sequences, dimension=10000):\r\n",
        "    results = np.zeros((len(sequences), dimension))\r\n",
        "    for i, sequence in enumerate(sequences):\r\n",
        "        results[i, sequence] = 1.\r\n",
        "    return results\r\n",
        "\r\n",
        "x_train = vectorize_sequences(train_data)\r\n",
        "x_test = vectorize_sequences(test_data)\r\n",
        "\r\n",
        "y_train = np.asarray(train_labels).astype('float32')\r\n",
        "y_test = np.asarray(test_labels).astype('float32')"
      ],
      "execution_count": 15,
      "outputs": []
    },
    {
      "cell_type": "markdown",
      "metadata": {
        "id": "VFvrXT-xlCQM"
      },
      "source": [
        "Original network"
      ]
    },
    {
      "cell_type": "code",
      "metadata": {
        "colab": {
          "base_uri": "https://localhost:8080/"
        },
        "id": "ZJ6SFkgpk94c",
        "outputId": "f4c43420-5f72-4a2b-ebc4-8edb35ac55e4"
      },
      "source": [
        "from keras import layers\r\n",
        "from keras import models\r\n",
        "\r\n",
        "model = models.Sequential()\r\n",
        "model.add(layers.Dense(16, activation='relu', input_shape=(10000, )))\r\n",
        "model.add(layers.Dense(16, activation='relu'))\r\n",
        "model.add(layers.Dense(1, activation='sigmoid'))\r\n",
        "\r\n",
        "model.compile(optimizer='rmsprop', loss='binary_crossentropy', metrics=['accuracy'])\r\n",
        "history_obj = model.fit(x_train, y_train, epochs=20, batch_size=512, validation_data=(x_test, y_test))\r\n",
        "\r\n",
        "history1 = history_obj.history"
      ],
      "execution_count": 16,
      "outputs": [
        {
          "output_type": "stream",
          "text": [
            "Epoch 1/20\n",
            "49/49 [==============================] - 2s 38ms/step - loss: 0.5639 - accuracy: 0.7405 - val_loss: 0.3312 - val_accuracy: 0.8791\n",
            "Epoch 2/20\n",
            "49/49 [==============================] - 1s 27ms/step - loss: 0.2645 - accuracy: 0.9131 - val_loss: 0.3040 - val_accuracy: 0.8779\n",
            "Epoch 3/20\n",
            "49/49 [==============================] - 1s 26ms/step - loss: 0.1977 - accuracy: 0.9323 - val_loss: 0.2835 - val_accuracy: 0.8866\n",
            "Epoch 4/20\n",
            "49/49 [==============================] - 1s 27ms/step - loss: 0.1654 - accuracy: 0.9422 - val_loss: 0.2939 - val_accuracy: 0.8824\n",
            "Epoch 5/20\n",
            "49/49 [==============================] - 1s 28ms/step - loss: 0.1338 - accuracy: 0.9552 - val_loss: 0.3121 - val_accuracy: 0.8801\n",
            "Epoch 6/20\n",
            "49/49 [==============================] - 1s 27ms/step - loss: 0.1183 - accuracy: 0.9616 - val_loss: 0.3680 - val_accuracy: 0.8690\n",
            "Epoch 7/20\n",
            "49/49 [==============================] - 1s 28ms/step - loss: 0.1048 - accuracy: 0.9663 - val_loss: 0.3585 - val_accuracy: 0.8730\n",
            "Epoch 8/20\n",
            "49/49 [==============================] - 1s 28ms/step - loss: 0.0909 - accuracy: 0.9709 - val_loss: 0.3851 - val_accuracy: 0.8680\n",
            "Epoch 9/20\n",
            "49/49 [==============================] - 1s 28ms/step - loss: 0.0811 - accuracy: 0.9734 - val_loss: 0.4264 - val_accuracy: 0.8632\n",
            "Epoch 10/20\n",
            "49/49 [==============================] - 1s 27ms/step - loss: 0.0691 - accuracy: 0.9788 - val_loss: 0.4387 - val_accuracy: 0.8632\n",
            "Epoch 11/20\n",
            "49/49 [==============================] - 1s 27ms/step - loss: 0.0621 - accuracy: 0.9809 - val_loss: 0.4721 - val_accuracy: 0.8599\n",
            "Epoch 12/20\n",
            "49/49 [==============================] - 1s 27ms/step - loss: 0.0538 - accuracy: 0.9848 - val_loss: 0.5113 - val_accuracy: 0.8558\n",
            "Epoch 13/20\n",
            "49/49 [==============================] - 1s 27ms/step - loss: 0.0495 - accuracy: 0.9859 - val_loss: 0.5414 - val_accuracy: 0.8552\n",
            "Epoch 14/20\n",
            "49/49 [==============================] - 1s 26ms/step - loss: 0.0406 - accuracy: 0.9888 - val_loss: 0.5575 - val_accuracy: 0.8581\n",
            "Epoch 15/20\n",
            "49/49 [==============================] - 1s 28ms/step - loss: 0.0370 - accuracy: 0.9904 - val_loss: 0.5963 - val_accuracy: 0.8557\n",
            "Epoch 16/20\n",
            "49/49 [==============================] - 1s 28ms/step - loss: 0.0301 - accuracy: 0.9922 - val_loss: 0.6300 - val_accuracy: 0.8520\n",
            "Epoch 17/20\n",
            "49/49 [==============================] - 1s 28ms/step - loss: 0.0270 - accuracy: 0.9935 - val_loss: 0.6865 - val_accuracy: 0.8508\n",
            "Epoch 18/20\n",
            "49/49 [==============================] - 1s 28ms/step - loss: 0.0227 - accuracy: 0.9949 - val_loss: 0.7035 - val_accuracy: 0.8497\n",
            "Epoch 19/20\n",
            "49/49 [==============================] - 1s 28ms/step - loss: 0.0221 - accuracy: 0.9940 - val_loss: 0.7343 - val_accuracy: 0.8505\n",
            "Epoch 20/20\n",
            "49/49 [==============================] - 1s 27ms/step - loss: 0.0142 - accuracy: 0.9972 - val_loss: 0.7795 - val_accuracy: 0.8482\n"
          ],
          "name": "stdout"
        }
      ]
    },
    {
      "cell_type": "markdown",
      "metadata": {
        "id": "Ra2GoZmrnOjo"
      },
      "source": [
        "Network 2 (Smaller network)"
      ]
    },
    {
      "cell_type": "code",
      "metadata": {
        "colab": {
          "base_uri": "https://localhost:8080/"
        },
        "id": "cLkeEUbEnNvb",
        "outputId": "5ab8b21c-27d2-4f2a-9826-36b0e62e9e02"
      },
      "source": [
        "model2 = models.Sequential()\r\n",
        "model2.add(layers.Dense(4, activation='relu', input_shape=(10000, )))\r\n",
        "model2.add(layers.Dense(4, activation='relu'))\r\n",
        "model2.add(layers.Dense(1, activation='sigmoid'))\r\n",
        "\r\n",
        "model2.compile(optimizer='rmsprop', loss='binary_crossentropy', metrics=['accuracy'])\r\n",
        "history_obj2 = model2.fit(x_train, y_train, epochs=20, batch_size=512, validation_data=(x_test, y_test))\r\n",
        "\r\n",
        "history2 = history_obj2.history"
      ],
      "execution_count": 17,
      "outputs": [
        {
          "output_type": "stream",
          "text": [
            "Epoch 1/20\n",
            "49/49 [==============================] - 2s 30ms/step - loss: 0.6576 - accuracy: 0.6120 - val_loss: 0.5595 - val_accuracy: 0.8134\n",
            "Epoch 2/20\n",
            "49/49 [==============================] - 1s 23ms/step - loss: 0.5255 - accuracy: 0.8215 - val_loss: 0.5089 - val_accuracy: 0.8294\n",
            "Epoch 3/20\n",
            "49/49 [==============================] - 1s 28ms/step - loss: 0.4678 - accuracy: 0.8714 - val_loss: 0.4823 - val_accuracy: 0.8466\n",
            "Epoch 4/20\n",
            "49/49 [==============================] - 1s 24ms/step - loss: 0.4343 - accuracy: 0.8983 - val_loss: 0.4643 - val_accuracy: 0.8674\n",
            "Epoch 5/20\n",
            "49/49 [==============================] - 1s 24ms/step - loss: 0.4062 - accuracy: 0.9143 - val_loss: 0.4518 - val_accuracy: 0.8782\n",
            "Epoch 6/20\n",
            "49/49 [==============================] - 1s 21ms/step - loss: 0.3853 - accuracy: 0.9311 - val_loss: 0.4524 - val_accuracy: 0.8616\n",
            "Epoch 7/20\n",
            "49/49 [==============================] - 1s 23ms/step - loss: 0.3614 - accuracy: 0.9374 - val_loss: 0.4429 - val_accuracy: 0.8701\n",
            "Epoch 8/20\n",
            "49/49 [==============================] - 1s 23ms/step - loss: 0.3481 - accuracy: 0.9471 - val_loss: 0.4413 - val_accuracy: 0.8695\n",
            "Epoch 9/20\n",
            "49/49 [==============================] - 1s 24ms/step - loss: 0.3281 - accuracy: 0.9526 - val_loss: 0.4341 - val_accuracy: 0.8732\n",
            "Epoch 10/20\n",
            "49/49 [==============================] - 1s 23ms/step - loss: 0.3178 - accuracy: 0.9557 - val_loss: 0.4426 - val_accuracy: 0.8677\n",
            "Epoch 11/20\n",
            "49/49 [==============================] - 1s 24ms/step - loss: 0.3019 - accuracy: 0.9593 - val_loss: 0.4273 - val_accuracy: 0.8732\n",
            "Epoch 12/20\n",
            "49/49 [==============================] - 1s 23ms/step - loss: 0.2880 - accuracy: 0.9653 - val_loss: 0.4357 - val_accuracy: 0.8707\n",
            "Epoch 13/20\n",
            "49/49 [==============================] - 1s 24ms/step - loss: 0.2750 - accuracy: 0.9659 - val_loss: 0.4195 - val_accuracy: 0.8694\n",
            "Epoch 14/20\n",
            "49/49 [==============================] - 1s 23ms/step - loss: 0.2665 - accuracy: 0.9700 - val_loss: 0.4428 - val_accuracy: 0.8674\n",
            "Epoch 15/20\n",
            "49/49 [==============================] - 1s 19ms/step - loss: 0.2547 - accuracy: 0.9709 - val_loss: 0.4344 - val_accuracy: 0.8671\n",
            "Epoch 16/20\n",
            "49/49 [==============================] - 1s 23ms/step - loss: 0.2454 - accuracy: 0.9731 - val_loss: 0.4306 - val_accuracy: 0.8662\n",
            "Epoch 17/20\n",
            "49/49 [==============================] - 1s 23ms/step - loss: 0.2351 - accuracy: 0.9749 - val_loss: 0.4349 - val_accuracy: 0.8653\n",
            "Epoch 18/20\n",
            "49/49 [==============================] - 1s 23ms/step - loss: 0.2260 - accuracy: 0.9768 - val_loss: 0.4641 - val_accuracy: 0.8633\n",
            "Epoch 19/20\n",
            "49/49 [==============================] - 1s 23ms/step - loss: 0.2167 - accuracy: 0.9775 - val_loss: 0.4600 - val_accuracy: 0.8632\n",
            "Epoch 20/20\n",
            "49/49 [==============================] - 1s 24ms/step - loss: 0.2072 - accuracy: 0.9777 - val_loss: 0.4582 - val_accuracy: 0.8626\n"
          ],
          "name": "stdout"
        }
      ]
    },
    {
      "cell_type": "markdown",
      "metadata": {
        "id": "Pll7CBBXnf4J"
      },
      "source": [
        "Validation loss of Smaller Network vs Original Network"
      ]
    },
    {
      "cell_type": "code",
      "metadata": {
        "colab": {
          "base_uri": "https://localhost:8080/",
          "height": 295
        },
        "id": "JwTrbZshnmyq",
        "outputId": "f8a640c0-6807-428d-f9a8-2c849c5606dd"
      },
      "source": [
        "import matplotlib.pyplot as plt\r\n",
        "\r\n",
        "accuracy = history1['accuracy']\r\n",
        "val_loss_values = history1['val_loss']\r\n",
        "val_loss_values2 = history2['val_loss']\r\n",
        "epochs = range(1, len(accuracy)+1)\r\n",
        "\r\n",
        "plt.plot(epochs, val_loss_values, 'b+', label='Original model')\r\n",
        "plt.plot(epochs, val_loss_values2, 'bo', label='Smaller model')\r\n",
        "plt.title('Validation loss of Smaller Network vs Original Network')\r\n",
        "plt.xlabel('Epochs')\r\n",
        "plt.ylabel('Validation Loss')\r\n",
        "plt.legend()\r\n",
        "\r\n",
        "plt.show()"
      ],
      "execution_count": 35,
      "outputs": [
        {
          "output_type": "display_data",
          "data": {
            "image/png": "[encoded data removed]",
            "text/plain": [
              "<Figure size 432x288 with 1 Axes>"
            ]
          },
          "metadata": {
            "tags": [],
            "needs_background": "light"
          }
        }
      ]
    },
    {
      "cell_type": "markdown",
      "metadata": {
        "id": "fCw0rCisqcRp"
      },
      "source": [
        "Network 3 (Bigger Network)"
      ]
    },
    {
      "cell_type": "code",
      "metadata": {
        "colab": {
          "base_uri": "https://localhost:8080/"
        },
        "id": "9Syn9527qhRr",
        "outputId": "daef83e4-6719-4156-c514-61e2ebe2766b"
      },
      "source": [
        "model3 = models.Sequential()\r\n",
        "model3.add(layers.Dense(512, activation='relu', input_shape=(10000, )))\r\n",
        "model3.add(layers.Dense(512, activation='relu'))\r\n",
        "model3.add(layers.Dense(1, activation='sigmoid'))\r\n",
        "\r\n",
        "model3.compile(optimizer='rmsprop', loss='binary_crossentropy', metrics=['accuracy'])\r\n",
        "history_obj3 = model3.fit(x_train, y_train, epochs=20, batch_size=512, validation_data=(x_test, y_test))\r\n",
        "\r\n",
        "history3 = history_obj3.history"
      ],
      "execution_count": 21,
      "outputs": [
        {
          "output_type": "stream",
          "text": [
            "Epoch 1/20\n",
            "49/49 [==============================] - 15s 296ms/step - loss: 0.6139 - accuracy: 0.7018 - val_loss: 0.3088 - val_accuracy: 0.8695\n",
            "Epoch 2/20\n",
            "49/49 [==============================] - 14s 283ms/step - loss: 0.2240 - accuracy: 0.9132 - val_loss: 0.2767 - val_accuracy: 0.8876\n",
            "Epoch 3/20\n",
            "49/49 [==============================] - 14s 279ms/step - loss: 0.1243 - accuracy: 0.9547 - val_loss: 0.3415 - val_accuracy: 0.8735\n",
            "Epoch 4/20\n",
            "49/49 [==============================] - 14s 282ms/step - loss: 0.0663 - accuracy: 0.9827 - val_loss: 0.4713 - val_accuracy: 0.8766\n",
            "Epoch 5/20\n",
            "49/49 [==============================] - 14s 286ms/step - loss: 0.0287 - accuracy: 0.9943 - val_loss: 0.4602 - val_accuracy: 0.8798\n",
            "Epoch 6/20\n",
            "49/49 [==============================] - 14s 286ms/step - loss: 0.0149 - accuracy: 0.9973 - val_loss: 0.4792 - val_accuracy: 0.8788\n",
            "Epoch 7/20\n",
            "49/49 [==============================] - 14s 288ms/step - loss: 0.0022 - accuracy: 1.0000 - val_loss: 0.7066 - val_accuracy: 0.8791\n",
            "Epoch 8/20\n",
            "49/49 [==============================] - 14s 288ms/step - loss: 0.0312 - accuracy: 0.9960 - val_loss: 0.5824 - val_accuracy: 0.8787\n",
            "Epoch 9/20\n",
            "49/49 [==============================] - 14s 286ms/step - loss: 5.3247e-04 - accuracy: 1.0000 - val_loss: 0.7856 - val_accuracy: 0.8795\n",
            "Epoch 10/20\n",
            "49/49 [==============================] - 14s 285ms/step - loss: 1.4519e-04 - accuracy: 1.0000 - val_loss: 0.9898 - val_accuracy: 0.8718\n",
            "Epoch 11/20\n",
            "49/49 [==============================] - 14s 285ms/step - loss: 0.0559 - accuracy: 0.9948 - val_loss: 0.8183 - val_accuracy: 0.8752\n",
            "Epoch 12/20\n",
            "49/49 [==============================] - 14s 284ms/step - loss: 5.9250e-05 - accuracy: 1.0000 - val_loss: 0.8927 - val_accuracy: 0.8758\n",
            "Epoch 13/20\n",
            "49/49 [==============================] - 14s 279ms/step - loss: 2.0922e-05 - accuracy: 1.0000 - val_loss: 1.0029 - val_accuracy: 0.8772\n",
            "Epoch 14/20\n",
            "49/49 [==============================] - 14s 278ms/step - loss: 4.8801e-06 - accuracy: 1.0000 - val_loss: 1.1742 - val_accuracy: 0.8740\n",
            "Epoch 15/20\n",
            "49/49 [==============================] - 14s 283ms/step - loss: 1.2550e-06 - accuracy: 1.0000 - val_loss: 1.3057 - val_accuracy: 0.8767\n",
            "Epoch 16/20\n",
            "49/49 [==============================] - 14s 286ms/step - loss: 1.5846e-07 - accuracy: 1.0000 - val_loss: 1.4421 - val_accuracy: 0.8768\n",
            "Epoch 17/20\n",
            "49/49 [==============================] - 14s 285ms/step - loss: 4.1392e-08 - accuracy: 1.0000 - val_loss: 1.5261 - val_accuracy: 0.8768\n",
            "Epoch 18/20\n",
            "49/49 [==============================] - 14s 290ms/step - loss: 1.8806e-08 - accuracy: 1.0000 - val_loss: 1.5730 - val_accuracy: 0.8770\n",
            "Epoch 19/20\n",
            "49/49 [==============================] - 14s 285ms/step - loss: 1.2413e-08 - accuracy: 1.0000 - val_loss: 1.6017 - val_accuracy: 0.8768\n",
            "Epoch 20/20\n",
            "49/49 [==============================] - 14s 281ms/step - loss: 9.1226e-09 - accuracy: 1.0000 - val_loss: 1.6228 - val_accuracy: 0.8768\n"
          ],
          "name": "stdout"
        }
      ]
    },
    {
      "cell_type": "markdown",
      "metadata": {
        "id": "mm47hO2MqzGS"
      },
      "source": [
        "Validation loss of Bigger Network vs Original Network"
      ]
    },
    {
      "cell_type": "code",
      "metadata": {
        "colab": {
          "base_uri": "https://localhost:8080/",
          "height": 295
        },
        "id": "gAzxrD7Hq569",
        "outputId": "0501f083-6c88-417c-bacf-7d86f494d81c"
      },
      "source": [
        "import matplotlib.pyplot as plt\r\n",
        "\r\n",
        "accuracy = history1['accuracy']\r\n",
        "val_loss_values = history1['val_loss']\r\n",
        "val_loss_values3 = history3['val_loss']\r\n",
        "epochs = range(1, len(accuracy)+1)\r\n",
        "\r\n",
        "plt.plot(epochs, val_loss_values, 'b+', label='Original model')\r\n",
        "plt.plot(epochs, val_loss_values3, 'bo', label='Bigger model')\r\n",
        "plt.title('Validation loss of Bigger Network vs Original Network')\r\n",
        "plt.xlabel('Epochs')\r\n",
        "plt.ylabel('Validation Loss')\r\n",
        "plt.legend()\r\n",
        "\r\n",
        "plt.show()"
      ],
      "execution_count": 34,
      "outputs": [
        {
          "output_type": "display_data",
          "data": {
            "image/png": "[encoded data removed]",
            "text/plain": [
              "<Figure size 432x288 with 1 Axes>"
            ]
          },
          "metadata": {
            "tags": [],
            "needs_background": "light"
          }
        }
      ]
    },
    {
      "cell_type": "markdown",
      "metadata": {
        "id": "Odk-OvDftUXr"
      },
      "source": [
        "Training loss of Bigger Network vs Original Network"
      ]
    },
    {
      "cell_type": "code",
      "metadata": {
        "colab": {
          "base_uri": "https://localhost:8080/",
          "height": 295
        },
        "id": "Y1IMjQ7ZtY2v",
        "outputId": "cec052c6-e6d5-404b-c9b6-b38ce12affe6"
      },
      "source": [
        "import matplotlib.pyplot as plt\r\n",
        "\r\n",
        "accuracy = history1['accuracy']\r\n",
        "training_loss_values = history1['loss']\r\n",
        "training_loss_values3 = history3['loss']\r\n",
        "epochs = range(1, len(accuracy)+1)\r\n",
        "\r\n",
        "plt.plot(epochs, training_loss_values, 'b+', label='Original model')\r\n",
        "plt.plot(epochs, training_loss_values3, 'bo', label='Bigger model')\r\n",
        "plt.title('Training loss of Bigger Network vs Original Network')\r\n",
        "plt.xlabel('Epochs')\r\n",
        "plt.ylabel('Training Loss')\r\n",
        "plt.legend()\r\n",
        "\r\n",
        "plt.show()"
      ],
      "execution_count": 33,
      "outputs": [
        {
          "output_type": "display_data",
          "data": {
            "image/png": "[encoded data removed]",
            "text/plain": [
              "<Figure size 432x288 with 1 Axes>"
            ]
          },
          "metadata": {
            "tags": [],
            "needs_background": "light"
          }
        }
      ]
    }
  ]
}