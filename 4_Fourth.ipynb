{
  "nbformat": 4,
  "nbformat_minor": 0,
  "metadata": {
    "colab": {
      "name": "4_Fourth.ipynb",
      "provenance": [],
      "collapsed_sections": [],
      "authorship_tag": "ABX9TyO78KdVPvZillQxNoSfWUKt",
      "include_colab_link": true
    },
    "kernelspec": {
      "display_name": "Python 3",
      "name": "python3"
    }
  },
  "cells": [
    {
      "cell_type": "markdown",
      "metadata": {
        "id": "view-in-github",
        "colab_type": "text"
      },
      "source": [
        "<a href=\"https://colab.research.google.com/github/VenuGopal1899/Deep-Learning-Projects/blob/main/4_Fourth.ipynb\" target=\"_parent\"><img src=\"https://colab.research.google.com/assets/colab-badge.svg\" alt=\"Open In Colab\"/></a>"
      ]
    },
    {
      "cell_type": "code",
      "metadata": {
        "id": "a69ElvswfbgO"
      },
      "source": [
        "from keras.datasets import boston_housing\r\n",
        "import numpy as np\r\n",
        "\r\n",
        "np.warnings.filterwarnings('ignore', category=np.VisibleDeprecationWarning) \r\n",
        "(train_data, train_targets), (test_data, test_targets) = boston_housing.load_data()"
      ],
      "execution_count": 12,
      "outputs": []
    },
    {
      "cell_type": "markdown",
      "metadata": {
        "id": "g1OreOjGpu9m"
      },
      "source": [
        "Feature-wise normalization - For each feature input, subtract mean of the feature and divide by standard deviation, so that all features are centered around 0 and have a unit standard deviation."
      ]
    },
    {
      "cell_type": "code",
      "metadata": {
        "id": "gHvBypjhpFz5"
      },
      "source": [
        "mean = train_data.mean(axis=0)\r\n",
        "train_data -= mean\r\n",
        "std = train_data.std(axis=0)\r\n",
        "train_data /= std\r\n",
        "\r\n",
        "test_data -= mean\r\n",
        "test_data /= std"
      ],
      "execution_count": 13,
      "outputs": []
    },
    {
      "cell_type": "markdown",
      "metadata": {
        "id": "4dDCN7m0rZ6o"
      },
      "source": [
        "Build model for a typical Scalar Regression"
      ]
    },
    {
      "cell_type": "code",
      "metadata": {
        "id": "Xwp3t749qk7l"
      },
      "source": [
        "from keras import models\r\n",
        "from keras import layers\r\n",
        "\r\n",
        "def build_model():\r\n",
        "    model = models.Sequential()\r\n",
        "    \r\n",
        "    model.add(layers.Dense(64, activation='relu', input_shape=(train_data.shape[1], )))\r\n",
        "    model.add(layers.Dense(64, activation='relu'))\r\n",
        "    model.add(layers.Dense(1))\r\n",
        "    \r\n",
        "    model.compile(optimizer='rmsprop', loss='mse', metrics=['mae'])\r\n",
        "    \r\n",
        "    return model "
      ],
      "execution_count": 14,
      "outputs": []
    },
    {
      "cell_type": "markdown",
      "metadata": {
        "id": "gN9wrIE4ro_8"
      },
      "source": [
        "K-fold Validation (As the input training data is too small for splitting it into partial_training_set and validation_set)"
      ]
    },
    {
      "cell_type": "code",
      "metadata": {
        "colab": {
          "base_uri": "https://localhost:8080/"
        },
        "id": "qDvfI5tzpsda",
        "outputId": "25b0eebb-9e1e-4b66-e156-6565ddd4b62d"
      },
      "source": [
        "k = 4\r\n",
        "num_epochs = 100\r\n",
        "num_val_samples = len(train_data)//k\r\n",
        "all_scores = []\r\n",
        "\r\n",
        "for i in range(k):\r\n",
        "    print('Processing fold #', i)\r\n",
        "    val_data = train_data[i*num_val_samples : (i+1)*num_val_samples]\r\n",
        "    val_targets = train_targets[i*num_val_samples : (i+1)*num_val_samples]\r\n",
        "\r\n",
        "    partial_train_data = np.concatenate([train_data[:i*num_val_samples], train_data[(i+1)*num_val_samples:]], axis=0)\r\n",
        "    partial_train_targets = np.concatenate([train_targets[:i*num_val_samples], train_targets[(i+1)*num_val_samples:]], axis=0)\r\n",
        "\r\n",
        "    model = build_model()\r\n",
        "    model.fit(partial_train_data, partial_train_targets, epochs = num_epochs, batch_size = 1, verbose = 0)\r\n",
        "    val_mse, val_mae = model.evaluate(val_data, val_targets, verbose = 0)\r\n",
        "    all_scores.append(val_mae)\r\n",
        "\r\n",
        "print(all_scores)\r\n",
        "print(np.mean(all_scores))"
      ],
      "execution_count": 15,
      "outputs": [
        {
          "output_type": "stream",
          "text": [
            "Processing fold # 0\n",
            "Processing fold # 1\n",
            "Processing fold # 2\n",
            "Processing fold # 3\n",
            "[2.2554492950439453, 2.8561534881591797, 2.698434591293335, 2.465155839920044]\n",
            "2.568798303604126\n"
          ],
          "name": "stdout"
        }
      ]
    },
    {
      "cell_type": "markdown",
      "metadata": {
        "id": "rRsjfWEsWppR"
      },
      "source": [
        "Use num_epochs = 500 and saving history (validation data)"
      ]
    },
    {
      "cell_type": "code",
      "metadata": {
        "colab": {
          "base_uri": "https://localhost:8080/"
        },
        "id": "JFjJxV8uWxHn",
        "outputId": "d2f86a2a-3560-4e9e-a999-62be63ee3ea1"
      },
      "source": [
        "num_epochs = 500\r\n",
        "all_mae_histories = []\r\n",
        "\r\n",
        "for i in range(k):\r\n",
        "    print('Processing fold #', i)\r\n",
        "    val_data = train_data[i*num_val_samples : (i+1)*num_val_samples]\r\n",
        "    val_targets = train_targets[i*num_val_samples : (i+1)*num_val_samples]\r\n",
        "\r\n",
        "    partial_train_data = np.concatenate([train_data[:i*num_val_samples], train_data[(i+1)*num_val_samples:]], axis=0)\r\n",
        "    partial_train_targets = np.concatenate([train_targets[:i*num_val_samples], train_targets[(i+1)*num_val_samples:]], axis=0)\r\n",
        "\r\n",
        "    model = build_model()\r\n",
        "    history = model.fit(partial_train_data, partial_train_targets, epochs = num_epochs, batch_size = 1, verbose = 0)\r\n",
        "    # print(history.history.keys())\r\n",
        "    mae_history = history.history['mae']\r\n",
        "    all_mae_histories.append(mae_history) \r\n",
        "\r\n",
        "avg_mae_history = [np.mean([x[i] for x in all_mae_histories]) for i in range(num_epochs)]"
      ],
      "execution_count": 16,
      "outputs": [
        {
          "output_type": "stream",
          "text": [
            "Processing fold # 0\n",
            "Processing fold # 1\n",
            "Processing fold # 2\n",
            "Processing fold # 3\n"
          ],
          "name": "stdout"
        }
      ]
    },
    {
      "cell_type": "code",
      "metadata": {
        "colab": {
          "base_uri": "https://localhost:8080/",
          "height": 279
        },
        "id": "KC50mqL1Xy47",
        "outputId": "a4cbdb9e-499f-4486-c1a3-8d406ff76a85"
      },
      "source": [
        "import matplotlib.pyplot as plt\r\n",
        "\r\n",
        "plt.plot(range(1, len(avg_mae_history) + 1), avg_mae_history)\r\n",
        "plt.xlabel('Epochs')\r\n",
        "plt.ylabel('Validation MAE')\r\n",
        "plt.show()"
      ],
      "execution_count": 17,
      "outputs": [
        {
          "output_type": "display_data",
          "data": {
            "image/png": "[encoded data removed]",
            "text/plain": [
              "<Figure size 432x288 with 1 Axes>"
            ]
          },
          "metadata": {
            "tags": [],
            "needs_background": "light"
          }
        }
      ]
    },
    {
      "cell_type": "markdown",
      "metadata": {
        "id": "NMFSLZr_bzXn"
      },
      "source": [
        "Smoothen the curve in above plot"
      ]
    },
    {
      "cell_type": "code",
      "metadata": {
        "colab": {
          "base_uri": "https://localhost:8080/",
          "height": 279
        },
        "id": "nRRUlXE1bxvt",
        "outputId": "9d2eac0d-24f6-47fc-c5c3-c25cf4bf9d96"
      },
      "source": [
        "def smoothen_curve(points, factor = 0.9):\r\n",
        "    smoothed_points = []\r\n",
        "    for point in points:\r\n",
        "        if smoothed_points: \r\n",
        "          previous = smoothed_points[-1]\r\n",
        "          smoothed_points.append(previous*factor + point*(1-factor))\r\n",
        "        else:\r\n",
        "          smoothed_points.append(point)\r\n",
        "\r\n",
        "    return smoothed_points\r\n",
        "\r\n",
        "smooth_mae_history = smoothen_curve(avg_mae_history[10:])  \r\n",
        "\r\n",
        "plt.plot(range(1, len(smooth_mae_history) + 1), smooth_mae_history)\r\n",
        "plt.xlabel('Epochs')\r\n",
        "plt.ylabel('Validation MAE')\r\n",
        "plt.show()"
      ],
      "execution_count": 18,
      "outputs": [
        {
          "output_type": "display_data",
          "data": {
            "image/png": "[encoded data removed]",
            "text/plain": [
              "<Figure size 432x288 with 1 Axes>"
            ]
          },
          "metadata": {
            "tags": [],
            "needs_background": "light"
          }
        }
      ]
    },
    {
      "cell_type": "markdown",
      "metadata": {
        "id": "1nJGQduTgBWS"
      },
      "source": [
        "Final model"
      ]
    },
    {
      "cell_type": "code",
      "metadata": {
        "colab": {
          "base_uri": "https://localhost:8080/"
        },
        "id": "0G0FR803gDS-",
        "outputId": "21246b86-9d30-4b55-8005-352bda3b96cb"
      },
      "source": [
        "model = build_model()\r\n",
        "\r\n",
        "model.fit(train_data, train_targets, epochs=500, batch_size=16, verbose=0)\r\n",
        "\r\n",
        "tets_mse_score, test_mae_score = model.evaluate(test_data, test_targets)\r\n",
        "\r\n",
        "print(test_mae_score)"
      ],
      "execution_count": 19,
      "outputs": [
        {
          "output_type": "stream",
          "text": [
            "4/4 [==============================] - 0s 2ms/step - loss: 12.6049 - mae: 2.3894\n",
            "2.389416217803955\n"
          ],
          "name": "stdout"
        }
      ]
    }
  ]
}