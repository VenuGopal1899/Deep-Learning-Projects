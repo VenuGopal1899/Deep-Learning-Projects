{
  "nbformat": 4,
  "nbformat_minor": 0,
  "metadata": {
    "colab": {
      "name": "Third.ipynb",
      "provenance": [],
      "authorship_tag": "ABX9TyOnb5mCxORI87svB/d4cByb",
      "include_colab_link": true
    },
    "kernelspec": {
      "name": "python3",
      "display_name": "Python 3"
    }
  },
  "cells": [
    {
      "cell_type": "markdown",
      "metadata": {
        "id": "view-in-github",
        "colab_type": "text"
      },
      "source": [
        "<a href=\"https://colab.research.google.com/github/VenuGopal1899/Deep-Learning-Projects/blob/main/Third.ipynb\" target=\"_parent\"><img src=\"https://colab.research.google.com/assets/colab-badge.svg\" alt=\"Open In Colab\"/></a>"
      ]
    },
    {
      "cell_type": "code",
      "metadata": {
        "id": "th3VhOLjHKMj"
      },
      "source": [
        "from keras.datasets import reuters\r\n",
        "import numpy as np\r\n",
        "\r\n",
        "np.warnings.filterwarnings('ignore', category=np.VisibleDeprecationWarning) \r\n",
        "(train_data, train_labels), (test_data, test_labels) = reuters.load_data(num_words = 10000)"
      ],
      "execution_count": 48,
      "outputs": []
    },
    {
      "cell_type": "markdown",
      "metadata": {
        "id": "SFnTGSFAIeBL"
      },
      "source": [
        "Use the below code snippet to decode the review in train_data\r\n"
      ]
    },
    {
      "cell_type": "code",
      "metadata": {
        "colab": {
          "base_uri": "https://localhost:8080/"
        },
        "id": "AKcrnd2qIesl",
        "outputId": "2b86a852-208a-4f35-e360-3144421226b0"
      },
      "source": [
        "word_index = reuters.get_word_index()\r\n",
        "reverse_word_index = dict([(value, key) for (key, value) in word_index.items()])\r\n",
        "\r\n",
        "decoded_newswire = ' '.join([reverse_word_index.get(i-3, '?') for i in train_data[0]])\r\n",
        "\r\n",
        "print(decoded_newswire)"
      ],
      "execution_count": 49,
      "outputs": [
        {
          "output_type": "stream",
          "text": [
            "? ? ? said as a result of its december acquisition of space co it expects earnings per share in 1987 of 1 15 to 1 30 dlrs per share up from 70 cts in 1986 the company said pretax net should rise to nine to 10 mln dlrs from six mln dlrs in 1986 and rental operation revenues to 19 to 22 mln dlrs from 12 5 mln dlrs it said cash flow per share this year should be 2 50 to three dlrs reuter 3\n"
          ],
          "name": "stdout"
        }
      ]
    },
    {
      "cell_type": "markdown",
      "metadata": {
        "id": "gPoOl9-DMdeO"
      },
      "source": [
        "Vectorize the input tensor data"
      ]
    },
    {
      "cell_type": "code",
      "metadata": {
        "id": "IPjyAvm8LBNJ"
      },
      "source": [
        "import numpy as np\r\n",
        "\r\n",
        "def vectorize_sequences(sequences, dimension=10000):\r\n",
        "    results = np.zeros((len(sequences), dimension))\r\n",
        "    for i, sequence in enumerate(sequences):\r\n",
        "        results[i, sequence] = 1.\r\n",
        "    return results\r\n",
        "\r\n",
        "x_train = vectorize_sequences(train_data)\r\n",
        "x_test = vectorize_sequences(test_data)"
      ],
      "execution_count": 50,
      "outputs": []
    },
    {
      "cell_type": "markdown",
      "metadata": {
        "id": "tTPb1REDMnBl"
      },
      "source": [
        "Vectorize the labels to One-Hot-Encoding using built-in-way in keras/ by hard coding"
      ]
    },
    {
      "cell_type": "code",
      "metadata": {
        "id": "IFRhf8ygMcHR"
      },
      "source": [
        "\"\"\"\r\n",
        "def to_one_hot(labels, dimension=46):\r\n",
        "    results = np.zeros((len(labels), dimension))\r\n",
        "    for i, label in enumerate(labels):\r\n",
        "        results[i, label] = 1\r\n",
        "    return results\r\n",
        "\r\n",
        "one_hot_train_labels = to_one_hot(train_labels)\r\n",
        "one_hot_test_labels = to_one_hot(test_labels)\r\n",
        "\"\"\"\r\n",
        "\r\n",
        "from keras.utils.np_utils import to_categorical\r\n",
        "\r\n",
        "one_hot_train_labels = to_categorical(train_labels)\r\n",
        "one_hot_test_labels = to_categorical(test_labels)"
      ],
      "execution_count": 51,
      "outputs": []
    },
    {
      "cell_type": "code",
      "metadata": {
        "colab": {
          "base_uri": "https://localhost:8080/"
        },
        "id": "wCH7d2jBRf4z",
        "outputId": "9a537575-37cd-4c9e-be38-bad07cddf771"
      },
      "source": [
        "from keras import models\r\n",
        "from keras import layers\r\n",
        "\r\n",
        "model = models.Sequential()\r\n",
        "model.add(layers.Dense(64, activation='relu', input_shape=(10000, )))\r\n",
        "model.add(layers.Dense(64, activation='relu'))\r\n",
        "model.add(layers.Dense(46, activation='softmax'))\r\n",
        "\r\n",
        "x_val = x_train[:1000]\r\n",
        "partial_x_train = x_train[1000:]\r\n",
        "\r\n",
        "y_val = one_hot_train_labels[:1000]\r\n",
        "partial_y_train = one_hot_train_labels[1000:]\r\n",
        "\r\n",
        "model.compile(optimizer='rmsprop', loss='categorical_crossentropy', metrics=['accuracy'])\r\n",
        "\r\n",
        "history_object = model.fit(partial_x_train, partial_y_train, epochs=20, batch_size=512, validation_data=(x_val, y_val))\r\n",
        "\r\n",
        "history = history_object.history"
      ],
      "execution_count": 52,
      "outputs": [
        {
          "output_type": "stream",
          "text": [
            "Epoch 1/20\n",
            "16/16 [==============================] - 2s 69ms/step - loss: 3.1306 - accuracy: 0.3818 - val_loss: 1.7550 - val_accuracy: 0.6290\n",
            "Epoch 2/20\n",
            "16/16 [==============================] - 1s 45ms/step - loss: 1.5133 - accuracy: 0.6942 - val_loss: 1.2853 - val_accuracy: 0.7190\n",
            "Epoch 3/20\n",
            "16/16 [==============================] - 1s 46ms/step - loss: 1.0534 - accuracy: 0.7772 - val_loss: 1.1101 - val_accuracy: 0.7500\n",
            "Epoch 4/20\n",
            "16/16 [==============================] - 1s 46ms/step - loss: 0.8053 - accuracy: 0.8326 - val_loss: 1.0111 - val_accuracy: 0.8000\n",
            "Epoch 5/20\n",
            "16/16 [==============================] - 1s 45ms/step - loss: 0.6464 - accuracy: 0.8715 - val_loss: 0.9361 - val_accuracy: 0.8060\n",
            "Epoch 6/20\n",
            "16/16 [==============================] - 1s 45ms/step - loss: 0.5084 - accuracy: 0.8965 - val_loss: 0.9051 - val_accuracy: 0.8150\n",
            "Epoch 7/20\n",
            "16/16 [==============================] - 1s 46ms/step - loss: 0.4260 - accuracy: 0.9126 - val_loss: 0.9039 - val_accuracy: 0.8090\n",
            "Epoch 8/20\n",
            "16/16 [==============================] - 1s 47ms/step - loss: 0.3361 - accuracy: 0.9331 - val_loss: 0.8795 - val_accuracy: 0.8230\n",
            "Epoch 9/20\n",
            "16/16 [==============================] - 1s 46ms/step - loss: 0.2787 - accuracy: 0.9411 - val_loss: 0.8736 - val_accuracy: 0.8240\n",
            "Epoch 10/20\n",
            "16/16 [==============================] - 1s 46ms/step - loss: 0.2339 - accuracy: 0.9503 - val_loss: 0.8930 - val_accuracy: 0.8170\n",
            "Epoch 11/20\n",
            "16/16 [==============================] - 1s 47ms/step - loss: 0.1964 - accuracy: 0.9551 - val_loss: 0.8870 - val_accuracy: 0.8330\n",
            "Epoch 12/20\n",
            "16/16 [==============================] - 1s 47ms/step - loss: 0.1659 - accuracy: 0.9569 - val_loss: 0.9215 - val_accuracy: 0.8160\n",
            "Epoch 13/20\n",
            "16/16 [==============================] - 1s 46ms/step - loss: 0.1557 - accuracy: 0.9553 - val_loss: 0.9155 - val_accuracy: 0.8250\n",
            "Epoch 14/20\n",
            "16/16 [==============================] - 1s 46ms/step - loss: 0.1434 - accuracy: 0.9581 - val_loss: 0.9308 - val_accuracy: 0.8190\n",
            "Epoch 15/20\n",
            "16/16 [==============================] - 1s 46ms/step - loss: 0.1165 - accuracy: 0.9625 - val_loss: 0.9504 - val_accuracy: 0.8250\n",
            "Epoch 16/20\n",
            "16/16 [==============================] - 1s 46ms/step - loss: 0.1175 - accuracy: 0.9623 - val_loss: 0.9808 - val_accuracy: 0.8040\n",
            "Epoch 17/20\n",
            "16/16 [==============================] - 1s 45ms/step - loss: 0.1113 - accuracy: 0.9607 - val_loss: 1.0820 - val_accuracy: 0.7860\n",
            "Epoch 18/20\n",
            "16/16 [==============================] - 1s 45ms/step - loss: 0.1088 - accuracy: 0.9604 - val_loss: 1.0089 - val_accuracy: 0.8180\n",
            "Epoch 19/20\n",
            "16/16 [==============================] - 1s 46ms/step - loss: 0.1019 - accuracy: 0.9613 - val_loss: 1.0275 - val_accuracy: 0.8120\n",
            "Epoch 20/20\n",
            "16/16 [==============================] - 1s 44ms/step - loss: 0.0982 - accuracy: 0.9643 - val_loss: 1.0312 - val_accuracy: 0.8060\n"
          ],
          "name": "stdout"
        }
      ]
    },
    {
      "cell_type": "code",
      "metadata": {
        "colab": {
          "base_uri": "https://localhost:8080/",
          "height": 295
        },
        "id": "lCyc0H2kSpeI",
        "outputId": "8797e5ea-3c43-45d5-b672-78b5bf005c7d"
      },
      "source": [
        "import matplotlib.pyplot as plt\r\n",
        "\r\n",
        "loss = history['loss']\r\n",
        "val_loss = history['val_loss']\r\n",
        "\r\n",
        "epochs = range(1, len(loss)+1)\r\n",
        "\r\n",
        "plt.plot(epochs, loss, 'bo', label='Training Loss')\r\n",
        "plt.plot(epochs, val_loss, 'b', label='Validation Loss')\r\n",
        "plt.title('Training and Validation Loss')\r\n",
        "plt.xlabel('Epochs')\r\n",
        "plt.ylabel('Loss')\r\n",
        "plt.legend()\r\n",
        "\r\n",
        "plt.show()"
      ],
      "execution_count": 53,
      "outputs": [
        {
          "output_type": "display_data",
          "data": {
            "image/png": "[encoded data removed]",
            "text/plain": [
              "<Figure size 432x288 with 1 Axes>"
            ]
          },
          "metadata": {
            "tags": [],
            "needs_background": "light"
          }
        }
      ]
    },
    {
      "cell_type": "code",
      "metadata": {
        "colab": {
          "base_uri": "https://localhost:8080/",
          "height": 295
        },
        "id": "DnEbSoimTEIh",
        "outputId": "3a303466-0a15-413c-d761-3704c4c04395"
      },
      "source": [
        "import matplotlib.pyplot as plt\r\n",
        "\r\n",
        "acc = history['accuracy']\r\n",
        "val_acc = history['val_accuracy']\r\n",
        "\r\n",
        "epochs = range(1, len(acc)+1)\r\n",
        "\r\n",
        "plt.plot(epochs, acc, 'bo', label='Training Accuracy')\r\n",
        "plt.plot(epochs, val_acc, 'b', label='Validation Accuracy')\r\n",
        "plt.title('Training and Validation Accuracy')\r\n",
        "plt.xlabel('Epochs')\r\n",
        "plt.ylabel('Accuracy')\r\n",
        "plt.legend()\r\n",
        "\r\n",
        "plt.show()"
      ],
      "execution_count": 54,
      "outputs": [
        {
          "output_type": "display_data",
          "data": {
            "image/png": "[encoded data removed]",
            "text/plain": [
              "<Figure size 432x288 with 1 Axes>"
            ]
          },
          "metadata": {
            "tags": [],
            "needs_background": "light"
          }
        }
      ]
    },
    {
      "cell_type": "code",
      "metadata": {
        "colab": {
          "base_uri": "https://localhost:8080/"
        },
        "id": "VKneMp3_To2p",
        "outputId": "dfc6fce5-fc65-4d15-8669-7dbb9b652964"
      },
      "source": [
        "model2 = models.Sequential()\r\n",
        "model2.add(layers.Dense(64, activation='relu', input_shape=(10000, )))\r\n",
        "model2.add(layers.Dense(64, activation='relu'))\r\n",
        "model2.add(layers.Dense(64, activation='relu'))\r\n",
        "model2.add(layers.Dense(46, activation='softmax'))\r\n",
        "\r\n",
        "model2.compile(optimizer='rmsprop', loss='categorical_crossentropy', metrics=['accuracy'])\r\n",
        "model2.fit(partial_x_train, partial_y_train, epochs=10, batch_size=512, validation_data=(x_val, y_val))\r\n",
        "\r\n",
        "results = model2.evaluate(x_test, one_hot_test_labels)\r\n",
        "print(results)"
      ],
      "execution_count": 55,
      "outputs": [
        {
          "output_type": "stream",
          "text": [
            "Epoch 1/10\n",
            "16/16 [==============================] - 1s 56ms/step - loss: 3.1922 - accuracy: 0.3710 - val_loss: 1.7160 - val_accuracy: 0.6200\n",
            "Epoch 2/10\n",
            "16/16 [==============================] - 1s 46ms/step - loss: 1.5583 - accuracy: 0.6562 - val_loss: 1.3724 - val_accuracy: 0.6830\n",
            "Epoch 3/10\n",
            "16/16 [==============================] - 1s 46ms/step - loss: 1.2069 - accuracy: 0.7414 - val_loss: 1.2102 - val_accuracy: 0.7250\n",
            "Epoch 4/10\n",
            "16/16 [==============================] - 1s 48ms/step - loss: 0.9260 - accuracy: 0.7942 - val_loss: 1.1118 - val_accuracy: 0.7620\n",
            "Epoch 5/10\n",
            "16/16 [==============================] - 1s 45ms/step - loss: 0.7539 - accuracy: 0.8316 - val_loss: 1.0472 - val_accuracy: 0.7720\n",
            "Epoch 6/10\n",
            "16/16 [==============================] - 1s 46ms/step - loss: 0.6186 - accuracy: 0.8609 - val_loss: 1.1327 - val_accuracy: 0.7540\n",
            "Epoch 7/10\n",
            "16/16 [==============================] - 1s 47ms/step - loss: 0.4760 - accuracy: 0.8945 - val_loss: 0.9886 - val_accuracy: 0.8090\n",
            "Epoch 8/10\n",
            "16/16 [==============================] - 1s 47ms/step - loss: 0.3832 - accuracy: 0.9185 - val_loss: 1.0275 - val_accuracy: 0.7960\n",
            "Epoch 9/10\n",
            "16/16 [==============================] - 1s 46ms/step - loss: 0.3094 - accuracy: 0.9350 - val_loss: 1.0041 - val_accuracy: 0.8100\n",
            "Epoch 10/10\n",
            "16/16 [==============================] - 1s 46ms/step - loss: 0.2696 - accuracy: 0.9421 - val_loss: 1.0302 - val_accuracy: 0.7970\n",
            "71/71 [==============================] - 0s 2ms/step - loss: 1.1172 - accuracy: 0.7778\n",
            "[1.1171514987945557, 0.777827262878418]\n"
          ],
          "name": "stdout"
        }
      ]
    },
    {
      "cell_type": "markdown",
      "metadata": {
        "id": "A9WkTeXfVqm0"
      },
      "source": [
        "Since, last layer in our model is using softmax, activation function, we can generate predictions on new data, using predict method. It generates probability distribution over all 46 topics."
      ]
    },
    {
      "cell_type": "code",
      "metadata": {
        "colab": {
          "base_uri": "https://localhost:8080/"
        },
        "id": "YRNJP4IFWICw",
        "outputId": "d7c90d6a-a642-4eaa-d457-d0847280f502"
      },
      "source": [
        "predictions = model.predict(x_test)\r\n",
        "\r\n",
        "print(predictions[0].shape)\r\n",
        "print(np.sum(predictions[0]))\r\n",
        "print(np.argmax(predictions[0]))"
      ],
      "execution_count": 56,
      "outputs": [
        {
          "output_type": "stream",
          "text": [
            "(46,)\n",
            "0.9999999\n",
            "3\n"
          ],
          "name": "stdout"
        }
      ]
    },
    {
      "cell_type": "markdown",
      "metadata": {
        "id": "RELoKUWxXFl9"
      },
      "source": [
        "Earlier, we used categorical labels list (One-Hot-Encoding). Instead, if we had used integer tensor, as shown below, only the choice of loss function would have changed.  "
      ]
    },
    {
      "cell_type": "code",
      "metadata": {
        "id": "qytyaCOvXfxL"
      },
      "source": [
        "# y_train = np.array(train_labels)\r\n",
        "# y_test = np.array(test_labels)\r\n",
        "\r\n",
        "# model.compile(optimizer='rmsprop', loss='sparse_categorical_crossentropy', metrics=['accuracy'])"
      ],
      "execution_count": 57,
      "outputs": []
    }
  ]
}