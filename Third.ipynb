{
  "nbformat": 4,
  "nbformat_minor": 0,
  "metadata": {
    "colab": {
      "name": "Third.ipynb",
      "provenance": [],
      "authorship_tag": "ABX9TyOnb5mCxORI87svB/d4cByb",
      "include_colab_link": true
    },
    "kernelspec": {
      "name": "python3",
      "display_name": "Python 3"
    }
  },
  "cells": [
    {
      "cell_type": "markdown",
      "metadata": {
        "id": "view-in-github",
        "colab_type": "text"
      },
      "source": [
        "<a href=\"https://colab.research.google.com/github/VenuGopal1899/Deep-Learning-Projects/blob/main/Third.ipynb\" target=\"_parent\"><img src=\"https://colab.research.google.com/assets/colab-badge.svg\" alt=\"Open In Colab\"/></a>"
      ]
    },
    {
      "cell_type": "code",
      "metadata": {
        "id": "th3VhOLjHKMj"
      },
      "source": [
        "from keras.datasets import reuters\r\n",
        "import numpy as np\r\n",
        "\r\n",
        "np.warnings.filterwarnings('ignore', category=np.VisibleDeprecationWarning) \r\n",
        "(train_data, train_labels), (test_data, test_labels) = reuters.load_data(num_words = 10000)"
      ],
      "execution_count": 34,
      "outputs": []
    },
    {
      "cell_type": "markdown",
      "metadata": {
        "id": "SFnTGSFAIeBL"
      },
      "source": [
        "Use the below code snippet to decode the review in train_data\r\n"
      ]
    },
    {
      "cell_type": "code",
      "metadata": {
        "colab": {
          "base_uri": "https://localhost:8080/"
        },
        "id": "AKcrnd2qIesl",
        "outputId": "f3c32277-0b74-4cf3-fa5a-eb7de7a3ea34"
      },
      "source": [
        "word_index = reuters.get_word_index()\r\n",
        "reverse_word_index = dict([(value, key) for (key, value) in word_index.items()])\r\n",
        "\r\n",
        "decoded_newswire = ' '.join([reverse_word_index.get(i-3, '?') for i in train_data[0]])\r\n",
        "\r\n",
        "print(decoded_newswire)"
      ],
      "execution_count": 35,
      "outputs": [
        {
          "output_type": "stream",
          "text": [
            "? ? ? said as a result of its december acquisition of space co it expects earnings per share in 1987 of 1 15 to 1 30 dlrs per share up from 70 cts in 1986 the company said pretax net should rise to nine to 10 mln dlrs from six mln dlrs in 1986 and rental operation revenues to 19 to 22 mln dlrs from 12 5 mln dlrs it said cash flow per share this year should be 2 50 to three dlrs reuter 3\n"
          ],
          "name": "stdout"
        }
      ]
    },
    {
      "cell_type": "markdown",
      "metadata": {
        "id": "gPoOl9-DMdeO"
      },
      "source": [
        "Vectorize the input tensor data"
      ]
    },
    {
      "cell_type": "code",
      "metadata": {
        "id": "IPjyAvm8LBNJ"
      },
      "source": [
        "import numpy as np\r\n",
        "\r\n",
        "def vectorize_sequences(sequences, dimension=10000):\r\n",
        "    results = np.zeros((len(sequences), dimension))\r\n",
        "    for i, sequence in enumerate(sequences):\r\n",
        "        results[i, sequence] = 1.\r\n",
        "    return results\r\n",
        "\r\n",
        "x_train = vectorize_sequences(train_data)\r\n",
        "x_test = vectorize_sequences(test_data)"
      ],
      "execution_count": 36,
      "outputs": []
    },
    {
      "cell_type": "markdown",
      "metadata": {
        "id": "tTPb1REDMnBl"
      },
      "source": [
        "Vectorize the labels to One-Hot-Encoding using built-in-way in keras/ by hard coding"
      ]
    },
    {
      "cell_type": "code",
      "metadata": {
        "id": "IFRhf8ygMcHR"
      },
      "source": [
        "\"\"\"\r\n",
        "def to_one_hot(labels, dimension=46):\r\n",
        "    results = np.zeros((len(labels), dimension))\r\n",
        "    for i, label in enumerate(labels):\r\n",
        "        results[i, label] = 1\r\n",
        "    return results\r\n",
        "\r\n",
        "one_hot_train_labels = to_one_hot(train_labels)\r\n",
        "one_hot_test_labels = to_one_hot(test_labels)\r\n",
        "\"\"\"\r\n",
        "\r\n",
        "from keras.utils.np_utils import to_categorical\r\n",
        "\r\n",
        "one_hot_train_labels = to_categorical(train_labels)\r\n",
        "one_hot_test_labels = to_categorical(test_labels)"
      ],
      "execution_count": 37,
      "outputs": []
    },
    {
      "cell_type": "code",
      "metadata": {
        "colab": {
          "base_uri": "https://localhost:8080/"
        },
        "id": "wCH7d2jBRf4z",
        "outputId": "820e7733-a856-47cd-960d-ec665306ffe9"
      },
      "source": [
        "from keras import models\r\n",
        "from keras import layers\r\n",
        "\r\n",
        "model = models.Sequential()\r\n",
        "model.add(layers.Dense(64, activation='relu', input_shape=(10000, )))\r\n",
        "model.add(layers.Dense(64, activation='relu'))\r\n",
        "model.add(layers.Dense(46, activation='softmax'))\r\n",
        "\r\n",
        "x_val = x_train[:1000]\r\n",
        "partial_x_train = x_train[1000:]\r\n",
        "\r\n",
        "y_val = one_hot_train_labels[:1000]\r\n",
        "partial_y_train = one_hot_train_labels[1000:]\r\n",
        "\r\n",
        "model.compile(optimizer='rmsprop', loss='categorical_crossentropy', metrics=['accuracy'])\r\n",
        "\r\n",
        "history_object = model.fit(partial_x_train, partial_y_train, epochs=20, batch_size=512, validation_data=(x_val, y_val))\r\n",
        "\r\n",
        "history = history_object.history"
      ],
      "execution_count": 38,
      "outputs": [
        {
          "output_type": "stream",
          "text": [
            "Epoch 1/20\n",
            "16/16 [==============================] - 1s 56ms/step - loss: 3.0431 - accuracy: 0.4236 - val_loss: 1.6845 - val_accuracy: 0.6370\n",
            "Epoch 2/20\n",
            "16/16 [==============================] - 1s 46ms/step - loss: 1.4854 - accuracy: 0.6947 - val_loss: 1.2918 - val_accuracy: 0.7230\n",
            "Epoch 3/20\n",
            "16/16 [==============================] - 1s 45ms/step - loss: 1.0744 - accuracy: 0.7753 - val_loss: 1.1271 - val_accuracy: 0.7710\n",
            "Epoch 4/20\n",
            "16/16 [==============================] - 1s 46ms/step - loss: 0.8405 - accuracy: 0.8327 - val_loss: 1.0303 - val_accuracy: 0.7950\n",
            "Epoch 5/20\n",
            "16/16 [==============================] - 1s 47ms/step - loss: 0.6809 - accuracy: 0.8608 - val_loss: 0.9678 - val_accuracy: 0.8120\n",
            "Epoch 6/20\n",
            "16/16 [==============================] - 1s 45ms/step - loss: 0.5479 - accuracy: 0.8867 - val_loss: 0.9363 - val_accuracy: 0.8120\n",
            "Epoch 7/20\n",
            "16/16 [==============================] - 1s 45ms/step - loss: 0.4425 - accuracy: 0.9105 - val_loss: 0.9366 - val_accuracy: 0.8040\n",
            "Epoch 8/20\n",
            "16/16 [==============================] - 1s 46ms/step - loss: 0.3611 - accuracy: 0.9274 - val_loss: 0.9225 - val_accuracy: 0.8060\n",
            "Epoch 9/20\n",
            "16/16 [==============================] - 1s 45ms/step - loss: 0.3012 - accuracy: 0.9364 - val_loss: 0.9242 - val_accuracy: 0.8120\n",
            "Epoch 10/20\n",
            "16/16 [==============================] - 1s 45ms/step - loss: 0.2362 - accuracy: 0.9509 - val_loss: 0.9220 - val_accuracy: 0.8190\n",
            "Epoch 11/20\n",
            "16/16 [==============================] - 1s 46ms/step - loss: 0.2062 - accuracy: 0.9517 - val_loss: 0.9602 - val_accuracy: 0.8070\n",
            "Epoch 12/20\n",
            "16/16 [==============================] - 1s 46ms/step - loss: 0.1853 - accuracy: 0.9560 - val_loss: 0.9353 - val_accuracy: 0.8170\n",
            "Epoch 13/20\n",
            "16/16 [==============================] - 1s 45ms/step - loss: 0.1607 - accuracy: 0.9559 - val_loss: 0.9633 - val_accuracy: 0.8120\n",
            "Epoch 14/20\n",
            "16/16 [==============================] - 1s 45ms/step - loss: 0.1382 - accuracy: 0.9607 - val_loss: 0.9842 - val_accuracy: 0.8080\n",
            "Epoch 15/20\n",
            "16/16 [==============================] - 1s 46ms/step - loss: 0.1292 - accuracy: 0.9593 - val_loss: 0.9870 - val_accuracy: 0.8180\n",
            "Epoch 16/20\n",
            "16/16 [==============================] - 1s 55ms/step - loss: 0.1219 - accuracy: 0.9608 - val_loss: 1.0179 - val_accuracy: 0.8170\n",
            "Epoch 17/20\n",
            "16/16 [==============================] - 1s 47ms/step - loss: 0.1196 - accuracy: 0.9613 - val_loss: 1.0485 - val_accuracy: 0.8070\n",
            "Epoch 18/20\n",
            "16/16 [==============================] - 1s 47ms/step - loss: 0.1101 - accuracy: 0.9600 - val_loss: 1.0645 - val_accuracy: 0.8070\n",
            "Epoch 19/20\n",
            "16/16 [==============================] - 1s 47ms/step - loss: 0.1004 - accuracy: 0.9645 - val_loss: 1.0855 - val_accuracy: 0.8080\n",
            "Epoch 20/20\n",
            "16/16 [==============================] - 1s 46ms/step - loss: 0.1016 - accuracy: 0.9615 - val_loss: 1.0981 - val_accuracy: 0.8070\n"
          ],
          "name": "stdout"
        }
      ]
    },
    {
      "cell_type": "code",
      "metadata": {
        "colab": {
          "base_uri": "https://localhost:8080/",
          "height": 295
        },
        "id": "lCyc0H2kSpeI",
        "outputId": "71148dea-b940-470c-bc7c-30f0c83d9118"
      },
      "source": [
        "import matplotlib.pyplot as plt\r\n",
        "\r\n",
        "loss = history['loss']\r\n",
        "val_loss = history['val_loss']\r\n",
        "\r\n",
        "epochs = range(1, len(loss)+1)\r\n",
        "\r\n",
        "plt.plot(epochs, loss, 'bo', label='Training Loss')\r\n",
        "plt.plot(epochs, val_loss, 'b', label='Validation Loss')\r\n",
        "plt.title('Training and Validation Loss')\r\n",
        "plt.xlabel('Epochs')\r\n",
        "plt.ylabel('Loss')\r\n",
        "plt.legend()\r\n",
        "\r\n",
        "plt.show()"
      ],
      "execution_count": 39,
      "outputs": [
        {
          "output_type": "display_data",
          "data": {
            "image/png": "[encoded data removed]",
            "text/plain": [
              "<Figure size 432x288 with 1 Axes>"
            ]
          },
          "metadata": {
            "tags": [],
            "needs_background": "light"
          }
        }
      ]
    },
    {
      "cell_type": "code",
      "metadata": {
        "colab": {
          "base_uri": "https://localhost:8080/",
          "height": 295
        },
        "id": "DnEbSoimTEIh",
        "outputId": "2b845f1a-7dd9-4ec2-d362-ca8e79dda21e"
      },
      "source": [
        "import matplotlib.pyplot as plt\r\n",
        "\r\n",
        "acc = history['accuracy']\r\n",
        "val_acc = history['val_accuracy']\r\n",
        "\r\n",
        "epochs = range(1, len(acc)+1)\r\n",
        "\r\n",
        "plt.plot(epochs, acc, 'bo', label='Training Accuracy')\r\n",
        "plt.plot(epochs, val_acc, 'b', label='Validation Accuracy')\r\n",
        "plt.title('Training and Validation Accuracy')\r\n",
        "plt.xlabel('Epochs')\r\n",
        "plt.ylabel('Accuracy')\r\n",
        "plt.legend()\r\n",
        "\r\n",
        "plt.show()"
      ],
      "execution_count": 40,
      "outputs": [
        {
          "output_type": "display_data",
          "data": {
            "image/png": "[encoded data removed]",
            "text/plain": [
              "<Figure size 432x288 with 1 Axes>"
            ]
          },
          "metadata": {
            "tags": [],
            "needs_background": "light"
          }
        }
      ]
    },
    {
      "cell_type": "code",
      "metadata": {
        "colab": {
          "base_uri": "https://localhost:8080/"
        },
        "id": "VKneMp3_To2p",
        "outputId": "1ec1461d-1981-4657-bd00-4dc15a495cfd"
      },
      "source": [
        "model2 = models.Sequential()\r\n",
        "model2.add(layers.Dense(64, activation='relu', input_shape=(10000, )))\r\n",
        "model2.add(layers.Dense(64, activation='relu'))\r\n",
        "model2.add(layers.Dense(64, activation='relu'))\r\n",
        "model2.add(layers.Dense(46, activation='softmax'))\r\n",
        "\r\n",
        "model2.compile(optimizer='rmsprop', loss='categorical_crossentropy', metrics=['accuracy'])\r\n",
        "model2.fit(partial_x_train, partial_y_train, epochs=10, batch_size=512, validation_data=(x_val, y_val))\r\n",
        "\r\n",
        "results = model2.evaluate(x_test, one_hot_test_labels)\r\n",
        "print(results)"
      ],
      "execution_count": 41,
      "outputs": [
        {
          "output_type": "stream",
          "text": [
            "Epoch 1/10\n",
            "16/16 [==============================] - 1s 56ms/step - loss: 3.1679 - accuracy: 0.3874 - val_loss: 1.7670 - val_accuracy: 0.5650\n",
            "Epoch 2/10\n",
            "16/16 [==============================] - 1s 45ms/step - loss: 1.5775 - accuracy: 0.6237 - val_loss: 1.3335 - val_accuracy: 0.7000\n",
            "Epoch 3/10\n",
            "16/16 [==============================] - 1s 46ms/step - loss: 1.1066 - accuracy: 0.7466 - val_loss: 1.1493 - val_accuracy: 0.7320\n",
            "Epoch 4/10\n",
            "16/16 [==============================] - 1s 47ms/step - loss: 0.8802 - accuracy: 0.8020 - val_loss: 1.0730 - val_accuracy: 0.7540\n",
            "Epoch 5/10\n",
            "16/16 [==============================] - 1s 46ms/step - loss: 0.6575 - accuracy: 0.8536 - val_loss: 0.9770 - val_accuracy: 0.7890\n",
            "Epoch 6/10\n",
            "16/16 [==============================] - 1s 46ms/step - loss: 0.5347 - accuracy: 0.8836 - val_loss: 0.9477 - val_accuracy: 0.7900\n",
            "Epoch 7/10\n",
            "16/16 [==============================] - 1s 47ms/step - loss: 0.4150 - accuracy: 0.9125 - val_loss: 0.9949 - val_accuracy: 0.7790\n",
            "Epoch 8/10\n",
            "16/16 [==============================] - 1s 46ms/step - loss: 0.3428 - accuracy: 0.9268 - val_loss: 0.9537 - val_accuracy: 0.7930\n",
            "Epoch 9/10\n",
            "16/16 [==============================] - 1s 47ms/step - loss: 0.2671 - accuracy: 0.9425 - val_loss: 0.9627 - val_accuracy: 0.8130\n",
            "Epoch 10/10\n",
            "16/16 [==============================] - 1s 45ms/step - loss: 0.2170 - accuracy: 0.9502 - val_loss: 0.9696 - val_accuracy: 0.8040\n",
            "71/71 [==============================] - 0s 2ms/step - loss: 1.1007 - accuracy: 0.7832\n",
            "[1.100716233253479, 0.7831701040267944]\n"
          ],
          "name": "stdout"
        }
      ]
    },
    {
      "cell_type": "markdown",
      "metadata": {
        "id": "A9WkTeXfVqm0"
      },
      "source": [
        "Since, last layer in our model is using softmax, activation function, we can generate predictions on new data, using predict method. It generates probability distribution over all 46 topics."
      ]
    },
    {
      "cell_type": "code",
      "metadata": {
        "colab": {
          "base_uri": "https://localhost:8080/"
        },
        "id": "YRNJP4IFWICw",
        "outputId": "e43bd1a8-2b2b-42db-a4d4-767ab87dd875"
      },
      "source": [
        "predictions = model.predict(x_test)\r\n",
        "\r\n",
        "print(predictions[0].shape)\r\n",
        "print(np.sum(predictions[0]))\r\n",
        "print(np.argmax(predictions[0]))"
      ],
      "execution_count": 42,
      "outputs": [
        {
          "output_type": "stream",
          "text": [
            "(46,)\n",
            "0.99999994\n",
            "3\n"
          ],
          "name": "stdout"
        }
      ]
    },
    {
      "cell_type": "markdown",
      "metadata": {
        "id": "RELoKUWxXFl9"
      },
      "source": [
        "Earlier, we used categorical labels list (One-Hot-Encoding). Instead, if we had used integer tensor, as shown below, only the choice of loss function would have changed.  "
      ]
    },
    {
      "cell_type": "code",
      "metadata": {
        "id": "qytyaCOvXfxL"
      },
      "source": [
        "# y_train = np.array(train_labels)\r\n",
        "# y_test = np.array(test_labels)\r\n",
        "\r\n",
        "# model.compile(optimizer='rmsprop', loss='sparse_categorical_crossentropy', metrics=['accuracy'])"
      ],
      "execution_count": 45,
      "outputs": []
    }
  ]
}