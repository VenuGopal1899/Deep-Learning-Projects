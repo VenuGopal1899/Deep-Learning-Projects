{
  "nbformat": 4,
  "nbformat_minor": 0,
  "metadata": {
    "colab": {
      "name": "2_Second.ipynb",
      "provenance": [],
      "collapsed_sections": [],
      "authorship_tag": "ABX9TyN36OszUVLOrU5S1vBzZW7i",
      "include_colab_link": true
    },
    "kernelspec": {
      "display_name": "Python 3",
      "name": "python3"
    }
  },
  "cells": [
    {
      "cell_type": "markdown",
      "metadata": {
        "id": "view-in-github",
        "colab_type": "text"
      },
      "source": [
        "<a href=\"https://colab.research.google.com/github/VenuGopal1899/Deep-Learning-Projects/blob/main/2_Second.ipynb\" target=\"_parent\"><img src=\"https://colab.research.google.com/assets/colab-badge.svg\" alt=\"Open In Colab\"/></a>"
      ]
    },
    {
      "cell_type": "code",
      "metadata": {
        "id": "RnQRVTamCsGl"
      },
      "source": [
        "from keras.datasets import imdb\r\n",
        "import numpy as np\r\n",
        "\r\n",
        "np.warnings.filterwarnings('ignore', category=np.VisibleDeprecationWarning) \r\n",
        "\r\n",
        "(train_data, train_labels), (test_data, test_labels) = imdb.load_data(num_words=10000)"
      ],
      "execution_count": null,
      "outputs": []
    },
    {
      "cell_type": "markdown",
      "metadata": {
        "id": "J8hfS_xPFWiY"
      },
      "source": [
        "Use the below code snippet to decode the review in train_data"
      ]
    },
    {
      "cell_type": "code",
      "metadata": {
        "colab": {
          "base_uri": "https://localhost:8080/"
        },
        "id": "PhZtGYCxCU08",
        "outputId": "b592554c-37c1-49ff-d410-465faa3bc261"
      },
      "source": [
        "word_index = imdb.get_word_index()\r\n",
        "reverse_word_index = dict(\r\n",
        "    [(value, key) for (key, value) in word_index.items()])\r\n",
        "\r\n",
        "decoded_review = ' '.join(\r\n",
        "    [reverse_word_index.get(i-3, '?') for i in train_data[0]])\r\n",
        "\r\n",
        "print('decoded_review' , decoded_review)"
      ],
      "execution_count": null,
      "outputs": [
        {
          "output_type": "stream",
          "text": [
            "decoded_review ? this film was just brilliant casting location scenery story direction everyone's really suited the part they played and you could just imagine being there robert ? is an amazing actor and now the same being director ? father came from the same scottish island as myself so i loved the fact there was a real connection with this film the witty remarks throughout the film were great it was just brilliant so much that i bought the film as soon as it was released for ? and would recommend it to everyone to watch and the fly fishing was amazing really cried at the end it was so sad and you know what they say if you cry at a film it must have been good and this definitely was also ? to the two little boy's that played the ? of norman and paul they were just brilliant children are often left out of the ? list i think because the stars that play them all grown up are such a big profile for the whole film but these children are amazing and should be praised for what they have done don't you think the whole story was so lovely because it was true and was someone's life after all that was shared with us all\n"
          ],
          "name": "stdout"
        }
      ]
    },
    {
      "cell_type": "code",
      "metadata": {
        "id": "t9XJeC1MT6Jf"
      },
      "source": [
        "import numpy as np\r\n",
        "\r\n",
        "def vectorize_sequences(sequences, dimension=10000):\r\n",
        "    results = np.zeros((len(sequences), dimension))\r\n",
        "    for i, sequence in enumerate(sequences):\r\n",
        "        results[i, sequence] = 1.\r\n",
        "    return results\r\n",
        "\r\n",
        "x_train = vectorize_sequences(train_data)\r\n",
        "x_test = vectorize_sequences(test_data)\r\n",
        "\r\n",
        "y_train = np.asarray(train_labels).astype('float32')\r\n",
        "y_test = np.asarray(test_labels).astype('float32')"
      ],
      "execution_count": null,
      "outputs": []
    },
    {
      "cell_type": "code",
      "metadata": {
        "colab": {
          "base_uri": "https://localhost:8080/"
        },
        "id": "keWVnpyIXtV0",
        "outputId": "06255a39-2f88-4793-9b08-200ba71d2073"
      },
      "source": [
        "from keras import models\r\n",
        "from keras import layers\r\n",
        "\r\n",
        "model = models.Sequential()\r\n",
        "model.add(layers.Dense(16, activation='relu', input_shape=(10000, )))\r\n",
        "model.add(layers.Dense(16, activation='relu'))\r\n",
        "model.add(layers.Dense(1, activation='sigmoid'))\r\n",
        "\r\n",
        "x_val = x_train[:10000]\r\n",
        "partial_x_train = x_train[10000:]\r\n",
        "\r\n",
        "y_val = y_train[:10000]\r\n",
        "partial_y_train = y_train[10000:]\r\n",
        "\r\n",
        "model.compile(optimizer='rmsprop', loss='binary_crossentropy', metrics=['accuracy'])\r\n",
        "history_object = model.fit(partial_x_train, partial_y_train, epochs=20, batch_size=512, validation_data=(x_val, y_val))\r\n",
        "\r\n",
        "history_dict = history_object.history"
      ],
      "execution_count": null,
      "outputs": [
        {
          "output_type": "stream",
          "text": [
            "Epoch 1/20\n",
            "30/30 [==============================] - 2s 54ms/step - loss: 0.5871 - accuracy: 0.7087 - val_loss: 0.3924 - val_accuracy: 0.8603\n",
            "Epoch 2/20\n",
            "30/30 [==============================] - 1s 29ms/step - loss: 0.3293 - accuracy: 0.8995 - val_loss: 0.3092 - val_accuracy: 0.8835\n",
            "Epoch 3/20\n",
            "30/30 [==============================] - 1s 29ms/step - loss: 0.2321 - accuracy: 0.9270 - val_loss: 0.3024 - val_accuracy: 0.8770\n",
            "Epoch 4/20\n",
            "30/30 [==============================] - 1s 29ms/step - loss: 0.1848 - accuracy: 0.9424 - val_loss: 0.2785 - val_accuracy: 0.8891\n",
            "Epoch 5/20\n",
            "30/30 [==============================] - 1s 29ms/step - loss: 0.1482 - accuracy: 0.9557 - val_loss: 0.2911 - val_accuracy: 0.8837\n",
            "Epoch 6/20\n",
            "30/30 [==============================] - 1s 30ms/step - loss: 0.1212 - accuracy: 0.9635 - val_loss: 0.2856 - val_accuracy: 0.8865\n",
            "Epoch 7/20\n",
            "30/30 [==============================] - 1s 29ms/step - loss: 0.1044 - accuracy: 0.9713 - val_loss: 0.3002 - val_accuracy: 0.8830\n",
            "Epoch 8/20\n",
            "30/30 [==============================] - 1s 29ms/step - loss: 0.0811 - accuracy: 0.9804 - val_loss: 0.3348 - val_accuracy: 0.8809\n",
            "Epoch 9/20\n",
            "30/30 [==============================] - 1s 29ms/step - loss: 0.0693 - accuracy: 0.9829 - val_loss: 0.3590 - val_accuracy: 0.8737\n",
            "Epoch 10/20\n",
            "30/30 [==============================] - 1s 29ms/step - loss: 0.0588 - accuracy: 0.9871 - val_loss: 0.3629 - val_accuracy: 0.8804\n",
            "Epoch 11/20\n",
            "30/30 [==============================] - 1s 30ms/step - loss: 0.0466 - accuracy: 0.9899 - val_loss: 0.4041 - val_accuracy: 0.8751\n",
            "Epoch 12/20\n",
            "30/30 [==============================] - 1s 30ms/step - loss: 0.0387 - accuracy: 0.9925 - val_loss: 0.4245 - val_accuracy: 0.8727\n",
            "Epoch 13/20\n",
            "30/30 [==============================] - 1s 29ms/step - loss: 0.0303 - accuracy: 0.9952 - val_loss: 0.4559 - val_accuracy: 0.8719\n",
            "Epoch 14/20\n",
            "30/30 [==============================] - 1s 29ms/step - loss: 0.0267 - accuracy: 0.9955 - val_loss: 0.4812 - val_accuracy: 0.8694\n",
            "Epoch 15/20\n",
            "30/30 [==============================] - 1s 29ms/step - loss: 0.0196 - accuracy: 0.9975 - val_loss: 0.5143 - val_accuracy: 0.8694\n",
            "Epoch 16/20\n",
            "30/30 [==============================] - 1s 30ms/step - loss: 0.0150 - accuracy: 0.9982 - val_loss: 0.6152 - val_accuracy: 0.8573\n",
            "Epoch 17/20\n",
            "30/30 [==============================] - 1s 29ms/step - loss: 0.0135 - accuracy: 0.9987 - val_loss: 0.5824 - val_accuracy: 0.8673\n",
            "Epoch 18/20\n",
            "30/30 [==============================] - 1s 29ms/step - loss: 0.0094 - accuracy: 0.9989 - val_loss: 0.6027 - val_accuracy: 0.8674\n",
            "Epoch 19/20\n",
            "30/30 [==============================] - 1s 29ms/step - loss: 0.0063 - accuracy: 0.9996 - val_loss: 0.7009 - val_accuracy: 0.8561\n",
            "Epoch 20/20\n",
            "30/30 [==============================] - 1s 29ms/step - loss: 0.0059 - accuracy: 0.9995 - val_loss: 0.6687 - val_accuracy: 0.8658\n"
          ],
          "name": "stdout"
        }
      ]
    },
    {
      "cell_type": "code",
      "metadata": {
        "colab": {
          "base_uri": "https://localhost:8080/",
          "height": 295
        },
        "id": "dPsAr3QxdvYN",
        "outputId": "95ec8d48-a16a-4f55-d5dc-517e88f1e429"
      },
      "source": [
        "import matplotlib.pyplot as plt\r\n",
        "\r\n",
        "loss_values = history_dict['loss']\r\n",
        "accuracy = history_dict['accuracy']\r\n",
        "val_loss_values = history_dict['val_loss']\r\n",
        "\r\n",
        "epochs = range(1, len(accuracy)+1)\r\n",
        "\r\n",
        "plt.plot(epochs, loss_values, 'bo', label='Training Loss')\r\n",
        "plt.plot(epochs, val_loss_values, 'b', label='Validation Loss')\r\n",
        "plt.title('Training and Validation Loss')\r\n",
        "plt.xlabel('Epochs')\r\n",
        "plt.ylabel('Loss')\r\n",
        "plt.legend()\r\n",
        "\r\n",
        "plt.show()"
      ],
      "execution_count": null,
      "outputs": [
        {
          "output_type": "display_data",
          "data": {
            "image/png": "[encoded data removed]",
            "text/plain": [
              "<Figure size 432x288 with 1 Axes>"
            ]
          },
          "metadata": {
            "tags": [],
            "needs_background": "light"
          }
        }
      ]
    },
    {
      "cell_type": "code",
      "metadata": {
        "colab": {
          "base_uri": "https://localhost:8080/",
          "height": 295
        },
        "id": "QpVj0B1rgI3y",
        "outputId": "3e2d3fb0-7981-4f44-d0cd-2905dcb4e22d"
      },
      "source": [
        "import matplotlib.pyplot as plt\r\n",
        "\r\n",
        "acc_values = history_dict['accuracy']\r\n",
        "accuracy = history_dict['accuracy']\r\n",
        "val_acc_values = history_dict['val_accuracy']\r\n",
        "\r\n",
        "epochs = range(1, len(accuracy)+1)\r\n",
        "\r\n",
        "plt.plot(epochs, acc_values, 'bo', label='Training Accuracy')\r\n",
        "plt.plot(epochs, val_acc_values, 'b', label='Validation Accuracy')\r\n",
        "plt.title('Training and Validation Accuracy')\r\n",
        "plt.xlabel('Epochs')\r\n",
        "plt.ylabel('Accuracy')\r\n",
        "plt.legend()\r\n",
        "\r\n",
        "plt.show()"
      ],
      "execution_count": null,
      "outputs": [
        {
          "output_type": "display_data",
          "data": {
            "image/png": "[encoded data removed]",
            "text/plain": [
              "<Figure size 432x288 with 1 Axes>"
            ]
          },
          "metadata": {
            "tags": [],
            "needs_background": "light"
          }
        }
      ]
    },
    {
      "cell_type": "markdown",
      "metadata": {
        "id": "pqa0wHacigTk"
      },
      "source": [
        "Kind of Naive approach based on graph - Accuracy 88% "
      ]
    },
    {
      "cell_type": "code",
      "metadata": {
        "colab": {
          "base_uri": "https://localhost:8080/"
        },
        "id": "QJFWmRWEhE8M",
        "outputId": "ec0c8ace-8cae-498f-d3ee-3643bed4005e"
      },
      "source": [
        "model2 = models.Sequential()\r\n",
        "model2.add(layers.Dense(16, activation='relu', input_shape=(10000, )))\r\n",
        "model2.add(layers.Dense(16, activation='relu'))\r\n",
        "model2.add(layers.Dense(1, activation='sigmoid'))\r\n",
        "\r\n",
        "model2.compile(optimizer='rmsprop', loss='binary_crossentropy', metrics=['accuracy'])\r\n",
        "model2.fit(x_train, y_train, epochs=4, batch_size=512)\r\n",
        "\r\n",
        "results = model2.evaluate(x_test, y_test)\r\n",
        "print(results)"
      ],
      "execution_count": null,
      "outputs": [
        {
          "output_type": "stream",
          "text": [
            "Epoch 1/4\n",
            "49/49 [==============================] - 2s 23ms/step - loss: 0.5593 - accuracy: 0.7298\n",
            "Epoch 2/4\n",
            "49/49 [==============================] - 1s 23ms/step - loss: 0.2713 - accuracy: 0.9083\n",
            "Epoch 3/4\n",
            "49/49 [==============================] - 1s 22ms/step - loss: 0.2068 - accuracy: 0.9282\n",
            "Epoch 4/4\n",
            "49/49 [==============================] - 1s 23ms/step - loss: 0.1681 - accuracy: 0.9425\n",
            "782/782 [==============================] - 1s 1ms/step - loss: 0.2923 - accuracy: 0.8848\n",
            "[0.2922605574131012, 0.8848400115966797]\n"
          ],
          "name": "stdout"
        }
      ]
    },
    {
      "cell_type": "markdown",
      "metadata": {
        "id": "BkJDJNpclPnE"
      },
      "source": [
        "A higher degree of accuracy can be achieved by using a better training algorithm. (Upto 95%)"
      ]
    },
    {
      "cell_type": "code",
      "metadata": {
        "colab": {
          "base_uri": "https://localhost:8080/"
        },
        "id": "q-0rKGjRivNg",
        "outputId": "103d2d46-3c80-4f9c-f8cc-6b9717e045b0"
      },
      "source": [
        "model3 = models.Sequential()\r\n",
        "model3.add(layers.Dense(32, activation='relu', input_shape=(10000, )))\r\n",
        "model3.add(layers.Dense(32, activation='relu'))\r\n",
        "model3.add(layers.Dense(1, activation='sigmoid'))\r\n",
        "\r\n",
        "model3.compile(optimizer='rmsprop', loss='binary_crossentropy', metrics=['accuracy'])\r\n",
        "model3.fit(x_train, y_train, epochs=4, batch_size=512)\r\n",
        "\r\n",
        "results = model3.evaluate(x_test, y_test)\r\n",
        "print(results)"
      ],
      "execution_count": null,
      "outputs": [
        {
          "output_type": "stream",
          "text": [
            "Epoch 1/4\n",
            "49/49 [==============================] - 2s 28ms/step - loss: 0.5194 - accuracy: 0.7443\n",
            "Epoch 2/4\n",
            "49/49 [==============================] - 1s 27ms/step - loss: 0.2357 - accuracy: 0.9157\n",
            "Epoch 3/4\n",
            "49/49 [==============================] - 1s 27ms/step - loss: 0.1819 - accuracy: 0.9353\n",
            "Epoch 4/4\n",
            "49/49 [==============================] - 1s 27ms/step - loss: 0.1523 - accuracy: 0.9448\n",
            "782/782 [==============================] - 1s 1ms/step - loss: 0.3198 - accuracy: 0.8792\n",
            "[0.3197533190250397, 0.8792399764060974]\n"
          ],
          "name": "stdout"
        }
      ]
    }
  ]
}